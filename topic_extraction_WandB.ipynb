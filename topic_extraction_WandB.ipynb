{
 "cells": [
  {
   "cell_type": "code",
   "execution_count": 22,
   "metadata": {},
   "outputs": [],
   "source": [
    "from bs4 import BeautifulSoup\n",
    "from gensim.corpora.dictionary import Dictionary\n",
    "from gensim.models.coherencemodel import CoherenceModel\n",
    "from nltk.stem import WordNetLemmatizer, PorterStemmer\n",
    "from nltk.corpus import stopwords\n",
    "from sklearn.decomposition import LatentDirichletAllocation\n",
    "from sklearn.feature_extraction.text import CountVectorizer\n",
    "from sklearn.feature_extraction.text import TfidfVectorizer\n",
    "\n",
    "\n",
    "\n",
    "import gensim\n",
    "import nltk\n",
    "import numpy as np\n",
    "import pandas as pd\n",
    "import re"
   ]
  },
  {
   "cell_type": "code",
   "execution_count": 2,
   "metadata": {},
   "outputs": [],
   "source": [
    "# Read the data\n",
    "df_comments1 = pd.read_pickle('./pickle_dataframes/comments1.pkl')\n",
    "df_comments2 = pd.read_pickle('./pickle_dataframes/comments2.pkl')\n",
    "df_comments = pd.concat([df_comments1,df_comments2])\n",
    "df_comments.reset_index(drop=True, inplace=True)\n",
    "\n",
    "df_posts1 = pd.read_pickle('./pickle_dataframes/posts1.pkl')\n",
    "df_posts2 = pd.read_pickle('./pickle_dataframes/posts2.pkl')\n",
    "df_posts3 = pd.read_pickle('./pickle_dataframes/posts3.pkl')\n",
    "df_posts = pd.concat([df_posts1, df_posts2, df_posts3])\n",
    "df_posts.reset_index(drop=True, inplace=True)\n",
    "\n",
    "df_postlinks = pd.read_pickle('./pickle_dataframes/posts_links.pkl')\n",
    "df_tags = pd.read_pickle('./pickle_dataframes/tags.pkl')\n",
    "df_users = pd.read_pickle('./pickle_dataframes/users.pkl')"
   ]
  },
  {
   "cell_type": "markdown",
   "metadata": {},
   "source": [
    "### Take a look at our DFs"
   ]
  },
  {
   "cell_type": "code",
   "execution_count": 3,
   "metadata": {},
   "outputs": [
    {
     "data": {
      "text/html": [
       "<div>\n",
       "<style scoped>\n",
       "    .dataframe tbody tr th:only-of-type {\n",
       "        vertical-align: middle;\n",
       "    }\n",
       "\n",
       "    .dataframe tbody tr th {\n",
       "        vertical-align: top;\n",
       "    }\n",
       "\n",
       "    .dataframe thead th {\n",
       "        text-align: right;\n",
       "    }\n",
       "</style>\n",
       "<table border=\"1\" class=\"dataframe\">\n",
       "  <thead>\n",
       "    <tr style=\"text-align: right;\">\n",
       "      <th></th>\n",
       "      <th>Id</th>\n",
       "      <th>PostId</th>\n",
       "      <th>Score</th>\n",
       "      <th>Text</th>\n",
       "      <th>CreationDate</th>\n",
       "      <th>UserId</th>\n",
       "    </tr>\n",
       "  </thead>\n",
       "  <tbody>\n",
       "    <tr>\n",
       "      <th>0</th>\n",
       "      <td>1</td>\n",
       "      <td>1</td>\n",
       "      <td>9</td>\n",
       "      <td>Is it fair to inquire about the disadvantages ...</td>\n",
       "      <td>2012-12-04 22:00:00.933</td>\n",
       "      <td>28</td>\n",
       "    </tr>\n",
       "    <tr>\n",
       "      <th>1</th>\n",
       "      <td>3</td>\n",
       "      <td>1</td>\n",
       "      <td>3</td>\n",
       "      <td>I could have reformulated the question, but at...</td>\n",
       "      <td>2012-12-04 22:02:37.737</td>\n",
       "      <td>18</td>\n",
       "    </tr>\n",
       "    <tr>\n",
       "      <th>2</th>\n",
       "      <td>7</td>\n",
       "      <td>2</td>\n",
       "      <td>2</td>\n",
       "      <td>Source on this? I don't see how it could possi...</td>\n",
       "      <td>2012-12-04 22:10:10.070</td>\n",
       "      <td>45</td>\n",
       "    </tr>\n",
       "    <tr>\n",
       "      <th>3</th>\n",
       "      <td>13</td>\n",
       "      <td>2</td>\n",
       "      <td>1</td>\n",
       "      <td>@Nick122 In a parliamentary system like the No...</td>\n",
       "      <td>2012-12-04 22:14:33.463</td>\n",
       "      <td>43</td>\n",
       "    </tr>\n",
       "    <tr>\n",
       "      <th>4</th>\n",
       "      <td>15</td>\n",
       "      <td>2</td>\n",
       "      <td>0</td>\n",
       "      <td>Yes, but you will give a negative vote by voti...</td>\n",
       "      <td>2012-12-04 22:16:29.437</td>\n",
       "      <td>45</td>\n",
       "    </tr>\n",
       "  </tbody>\n",
       "</table>\n",
       "</div>"
      ],
      "text/plain": [
       "   Id  PostId  Score                                               Text   \n",
       "0   1       1      9  Is it fair to inquire about the disadvantages ...  \\\n",
       "1   3       1      3  I could have reformulated the question, but at...   \n",
       "2   7       2      2  Source on this? I don't see how it could possi...   \n",
       "3  13       2      1  @Nick122 In a parliamentary system like the No...   \n",
       "4  15       2      0  Yes, but you will give a negative vote by voti...   \n",
       "\n",
       "             CreationDate  UserId  \n",
       "0 2012-12-04 22:00:00.933      28  \n",
       "1 2012-12-04 22:02:37.737      18  \n",
       "2 2012-12-04 22:10:10.070      45  \n",
       "3 2012-12-04 22:14:33.463      43  \n",
       "4 2012-12-04 22:16:29.437      45  "
      ]
     },
     "execution_count": 3,
     "metadata": {},
     "output_type": "execute_result"
    }
   ],
   "source": [
    "df_comments.head()"
   ]
  },
  {
   "cell_type": "code",
   "execution_count": 4,
   "metadata": {},
   "outputs": [
    {
     "data": {
      "text/html": [
       "<div>\n",
       "<style scoped>\n",
       "    .dataframe tbody tr th:only-of-type {\n",
       "        vertical-align: middle;\n",
       "    }\n",
       "\n",
       "    .dataframe tbody tr th {\n",
       "        vertical-align: top;\n",
       "    }\n",
       "\n",
       "    .dataframe thead th {\n",
       "        text-align: right;\n",
       "    }\n",
       "</style>\n",
       "<table border=\"1\" class=\"dataframe\">\n",
       "  <thead>\n",
       "    <tr style=\"text-align: right;\">\n",
       "      <th></th>\n",
       "      <th>Id</th>\n",
       "      <th>PostTypeId</th>\n",
       "      <th>ParentId</th>\n",
       "      <th>AcceptedAnswerId</th>\n",
       "      <th>CreationDate</th>\n",
       "      <th>Score</th>\n",
       "      <th>ViewCount</th>\n",
       "      <th>Body</th>\n",
       "      <th>OwnerUserId</th>\n",
       "      <th>LastActivityDate</th>\n",
       "      <th>Title</th>\n",
       "      <th>Tags</th>\n",
       "      <th>AnswerCount</th>\n",
       "      <th>CommentCount</th>\n",
       "    </tr>\n",
       "  </thead>\n",
       "  <tbody>\n",
       "    <tr>\n",
       "      <th>0</th>\n",
       "      <td>1</td>\n",
       "      <td>1</td>\n",
       "      <td>-1</td>\n",
       "      <td>5</td>\n",
       "      <td>2012-12-04 21:40:29.743</td>\n",
       "      <td>42</td>\n",
       "      <td>8309</td>\n",
       "      <td>&lt;p&gt;We all know the situation could arise in th...</td>\n",
       "      <td>18</td>\n",
       "      <td>2019-06-29 09:18:38.430</td>\n",
       "      <td>What are the disadvantages of first-past-the-p...</td>\n",
       "      <td>&lt;election&gt;&lt;voting-systems&gt;&lt;first-past-the-post&gt;</td>\n",
       "      <td>3</td>\n",
       "      <td>3</td>\n",
       "    </tr>\n",
       "    <tr>\n",
       "      <th>1</th>\n",
       "      <td>2</td>\n",
       "      <td>1</td>\n",
       "      <td>-1</td>\n",
       "      <td>19</td>\n",
       "      <td>2012-12-04 21:53:18.800</td>\n",
       "      <td>26</td>\n",
       "      <td>7832</td>\n",
       "      <td>&lt;p&gt;I've heard that mathematically it can be sh...</td>\n",
       "      <td>21</td>\n",
       "      <td>2017-05-03 13:53:26.063</td>\n",
       "      <td>Why can't voting be fair if there are more tha...</td>\n",
       "      <td>&lt;voting&gt;&lt;political-theory&gt;&lt;voting-systems&gt;</td>\n",
       "      <td>4</td>\n",
       "      <td>3</td>\n",
       "    </tr>\n",
       "    <tr>\n",
       "      <th>2</th>\n",
       "      <td>4</td>\n",
       "      <td>2</td>\n",
       "      <td>1</td>\n",
       "      <td>-1</td>\n",
       "      <td>2012-12-04 21:58:11.187</td>\n",
       "      <td>7</td>\n",
       "      <td>-1</td>\n",
       "      <td>&lt;p&gt;First-past-the-post voting tends to result ...</td>\n",
       "      <td>26</td>\n",
       "      <td>2012-12-04 21:58:11.187</td>\n",
       "      <td>Comment: N/A</td>\n",
       "      <td>Comment: N/A</td>\n",
       "      <td>-1</td>\n",
       "      <td>1</td>\n",
       "    </tr>\n",
       "    <tr>\n",
       "      <th>3</th>\n",
       "      <td>5</td>\n",
       "      <td>2</td>\n",
       "      <td>1</td>\n",
       "      <td>-1</td>\n",
       "      <td>2012-12-04 21:58:39.037</td>\n",
       "      <td>47</td>\n",
       "      <td>-1</td>\n",
       "      <td>&lt;p&gt;Simple plurality voting has very little in ...</td>\n",
       "      <td>8</td>\n",
       "      <td>2012-12-04 22:04:42.767</td>\n",
       "      <td>Comment: N/A</td>\n",
       "      <td>Comment: N/A</td>\n",
       "      <td>-1</td>\n",
       "      <td>1</td>\n",
       "    </tr>\n",
       "    <tr>\n",
       "      <th>4</th>\n",
       "      <td>6</td>\n",
       "      <td>1</td>\n",
       "      <td>-1</td>\n",
       "      <td>28</td>\n",
       "      <td>2012-12-04 21:58:47.500</td>\n",
       "      <td>46</td>\n",
       "      <td>68096</td>\n",
       "      <td>&lt;p&gt;Living in a country where mandatory voting ...</td>\n",
       "      <td>18</td>\n",
       "      <td>2019-02-03 17:38:05.237</td>\n",
       "      <td>What are the advantages/disadvantages of a man...</td>\n",
       "      <td>&lt;voting&gt;&lt;voting-systems&gt;</td>\n",
       "      <td>8</td>\n",
       "      <td>5</td>\n",
       "    </tr>\n",
       "  </tbody>\n",
       "</table>\n",
       "</div>"
      ],
      "text/plain": [
       "   Id  PostTypeId  ParentId  AcceptedAnswerId            CreationDate  Score   \n",
       "0   1           1        -1                 5 2012-12-04 21:40:29.743     42  \\\n",
       "1   2           1        -1                19 2012-12-04 21:53:18.800     26   \n",
       "2   4           2         1                -1 2012-12-04 21:58:11.187      7   \n",
       "3   5           2         1                -1 2012-12-04 21:58:39.037     47   \n",
       "4   6           1        -1                28 2012-12-04 21:58:47.500     46   \n",
       "\n",
       "   ViewCount                                               Body  OwnerUserId   \n",
       "0       8309  <p>We all know the situation could arise in th...           18  \\\n",
       "1       7832  <p>I've heard that mathematically it can be sh...           21   \n",
       "2         -1  <p>First-past-the-post voting tends to result ...           26   \n",
       "3         -1  <p>Simple plurality voting has very little in ...            8   \n",
       "4      68096  <p>Living in a country where mandatory voting ...           18   \n",
       "\n",
       "         LastActivityDate                                              Title   \n",
       "0 2019-06-29 09:18:38.430  What are the disadvantages of first-past-the-p...  \\\n",
       "1 2017-05-03 13:53:26.063  Why can't voting be fair if there are more tha...   \n",
       "2 2012-12-04 21:58:11.187                                       Comment: N/A   \n",
       "3 2012-12-04 22:04:42.767                                       Comment: N/A   \n",
       "4 2019-02-03 17:38:05.237  What are the advantages/disadvantages of a man...   \n",
       "\n",
       "                                              Tags  AnswerCount  CommentCount  \n",
       "0  <election><voting-systems><first-past-the-post>            3             3  \n",
       "1       <voting><political-theory><voting-systems>            4             3  \n",
       "2                                     Comment: N/A           -1             1  \n",
       "3                                     Comment: N/A           -1             1  \n",
       "4                         <voting><voting-systems>            8             5  "
      ]
     },
     "execution_count": 4,
     "metadata": {},
     "output_type": "execute_result"
    }
   ],
   "source": [
    "df_posts.head()"
   ]
  },
  {
   "cell_type": "markdown",
   "metadata": {},
   "source": [
    "### Filtering Posts"
   ]
  },
  {
   "cell_type": "code",
   "execution_count": 5,
   "metadata": {},
   "outputs": [],
   "source": [
    "questions_df = df_posts[df_posts['PostTypeId'] == 1]\n",
    "\n",
    "# questions_sample_df = questions_df.sample(frac=0.25)\n",
    "#questions_df = questions_df.sample(frac=0.01)"
   ]
  },
  {
   "cell_type": "markdown",
   "metadata": {},
   "source": [
    "### Preprocess text"
   ]
  },
  {
   "cell_type": "code",
   "execution_count": 23,
   "metadata": {},
   "outputs": [],
   "source": [
    "# Modify preprocess_text function\n",
    "def preprocess_text(text, remove_stopwords=False, use_lemmatize=True):\n",
    "    # Remove non-alphanumeric characters and convert to lowercase\n",
    "    text = re.sub(r'[^a-zA-Z0-9]', ' ', text.lower())\n",
    "\n",
    "    if remove_stopwords or use_lemmatize:\n",
    "        words = text.split()\n",
    "        if remove_stopwords:\n",
    "            words = [word for word in words if word not in stopwords.words('english')]\n",
    "        if use_lemmatize:\n",
    "            lemmatizer = WordNetLemmatizer()\n",
    "            words = [lemmatizer.lemmatize(word) for word in words]\n",
    "        else:\n",
    "            stemmer = PorterStemmer()\n",
    "            words = [stemmer.stem(word) for word in words]\n",
    "        text = ' '.join(words)\n",
    "    \n",
    "    return text"
   ]
  },
  {
   "cell_type": "markdown",
   "metadata": {},
   "source": [
    "### WandB Timeeee"
   ]
  },
  {
   "cell_type": "code",
   "execution_count": 9,
   "metadata": {},
   "outputs": [
    {
     "name": "stderr",
     "output_type": "stream",
     "text": [
      "\u001b[34m\u001b[1mwandb\u001b[0m: Currently logged in as: \u001b[33mpierrehogenhaug\u001b[0m. Use \u001b[1m`wandb login --relogin`\u001b[0m to force relogin\n"
     ]
    },
    {
     "data": {
      "text/plain": [
       "True"
      ]
     },
     "execution_count": 9,
     "metadata": {},
     "output_type": "execute_result"
    }
   ],
   "source": [
    "import wandb\n",
    "\n",
    "wandb.login()"
   ]
  },
  {
   "cell_type": "code",
   "execution_count": 11,
   "metadata": {},
   "outputs": [
    {
     "data": {
      "text/html": [
       "Finishing last run (ID:dm5ejgax) before initializing another..."
      ],
      "text/plain": [
       "<IPython.core.display.HTML object>"
      ]
     },
     "metadata": {},
     "output_type": "display_data"
    },
    {
     "data": {
      "application/vnd.jupyter.widget-view+json": {
       "model_id": "da3ff714b4a54447a46f58a57dc5654d",
       "version_major": 2,
       "version_minor": 0
      },
      "text/plain": [
       "VBox(children=(Label(value='0.006 MB of 0.006 MB uploaded\\r'), FloatProgress(value=1.0, max=1.0)))"
      ]
     },
     "metadata": {},
     "output_type": "display_data"
    },
    {
     "data": {
      "text/html": [
       " View run <strong style=\"color:#cdcd00\">smart-leaf-1</strong> at: <a href='https://wandb.ai/pierrehogenhaug/stackexchange_topic_modeling/runs/dm5ejgax' target=\"_blank\">https://wandb.ai/pierrehogenhaug/stackexchange_topic_modeling/runs/dm5ejgax</a><br/>Synced 4 W&B file(s), 0 media file(s), 0 artifact file(s) and 0 other file(s)"
      ],
      "text/plain": [
       "<IPython.core.display.HTML object>"
      ]
     },
     "metadata": {},
     "output_type": "display_data"
    },
    {
     "data": {
      "text/html": [
       "Find logs at: <code>.\\wandb\\run-20231119_144604-dm5ejgax\\logs</code>"
      ],
      "text/plain": [
       "<IPython.core.display.HTML object>"
      ]
     },
     "metadata": {},
     "output_type": "display_data"
    },
    {
     "data": {
      "text/html": [
       "Successfully finished last run (ID:dm5ejgax). Initializing new run:<br/>"
      ],
      "text/plain": [
       "<IPython.core.display.HTML object>"
      ]
     },
     "metadata": {},
     "output_type": "display_data"
    },
    {
     "data": {
      "application/vnd.jupyter.widget-view+json": {
       "model_id": "41c6c7f5c621465a9366405bfa6f4db4",
       "version_major": 2,
       "version_minor": 0
      },
      "text/plain": [
       "VBox(children=(Label(value='Waiting for wandb.init()...\\r'), FloatProgress(value=0.011277777777932999, max=1.0…"
      ]
     },
     "metadata": {},
     "output_type": "display_data"
    },
    {
     "data": {
      "text/html": [
       "Tracking run with wandb version 0.16.0"
      ],
      "text/plain": [
       "<IPython.core.display.HTML object>"
      ]
     },
     "metadata": {},
     "output_type": "display_data"
    },
    {
     "data": {
      "text/html": [
       "Run data is saved locally in <code>c:\\Users\\pih\\OneDrive - Capital Four Management Fondsmæglerselskab A S\\notesPH\\personal\\school\\dtu\\socialGraphs23\\stackexchange_politics\\wandb\\run-20231119_145110-is6zcopz</code>"
      ],
      "text/plain": [
       "<IPython.core.display.HTML object>"
      ]
     },
     "metadata": {},
     "output_type": "display_data"
    },
    {
     "data": {
      "text/html": [
       "Syncing run <strong><a href='https://wandb.ai/pierrehogenhaug/stackexchange_topic_modeling/runs/is6zcopz' target=\"_blank\">base_approach_no_cleaning</a></strong> to <a href='https://wandb.ai/pierrehogenhaug/stackexchange_topic_modeling' target=\"_blank\">Weights & Biases</a> (<a href='https://wandb.me/run' target=\"_blank\">docs</a>)<br/>"
      ],
      "text/plain": [
       "<IPython.core.display.HTML object>"
      ]
     },
     "metadata": {},
     "output_type": "display_data"
    },
    {
     "data": {
      "text/html": [
       " View project at <a href='https://wandb.ai/pierrehogenhaug/stackexchange_topic_modeling' target=\"_blank\">https://wandb.ai/pierrehogenhaug/stackexchange_topic_modeling</a>"
      ],
      "text/plain": [
       "<IPython.core.display.HTML object>"
      ]
     },
     "metadata": {},
     "output_type": "display_data"
    },
    {
     "data": {
      "text/html": [
       " View run at <a href='https://wandb.ai/pierrehogenhaug/stackexchange_topic_modeling/runs/is6zcopz' target=\"_blank\">https://wandb.ai/pierrehogenhaug/stackexchange_topic_modeling/runs/is6zcopz</a>"
      ],
      "text/plain": [
       "<IPython.core.display.HTML object>"
      ]
     },
     "metadata": {},
     "output_type": "display_data"
    },
    {
     "data": {
      "text/html": [
       "<button onClick=\"this.nextSibling.style.display='block';this.style.display='none';\">Display W&B run</button><iframe src='https://wandb.ai/pierrehogenhaug/stackexchange_topic_modeling/runs/is6zcopz?jupyter=true' style='border:none;width:100%;height:420px;display:none;'></iframe>"
      ],
      "text/plain": [
       "<wandb.sdk.wandb_run.Run at 0x2433749a1a0>"
      ]
     },
     "execution_count": 11,
     "metadata": {},
     "output_type": "execute_result"
    }
   ],
   "source": [
    "# Initialize a new WandB run\n",
    "wandb.init(project=\"stackexchange_topic_modeling\", name=\"base_approach_no_cleaning\")"
   ]
  },
  {
   "cell_type": "code",
   "execution_count": 18,
   "metadata": {},
   "outputs": [],
   "source": [
    "# Define the parameters for the experiment\n",
    "n_topics_options = [5, 10, 15, 20]\n",
    "wandb.config.n_topics_options = n_topics_options"
   ]
  },
  {
   "cell_type": "code",
   "execution_count": 28,
   "metadata": {},
   "outputs": [],
   "source": [
    "# Define apply_lda_and_log function with run_name parameter\n",
    "def apply_lda_and_log(df, remove_stopwords, use_lemmatize, tags_weighting, run_name):\n",
    "    # Start a new WandB run with the specified name\n",
    "    wandb.init(project=\"stackexchange_politics_analysis\", name=run_name, entity=\"your_username\")\n",
    "    \n",
    "    # Preprocess Title, Body, and Tags\n",
    "    df['Title'] = df['Title'].apply(lambda x: preprocess_text(x, remove_stopwords, use_lemmatize))\n",
    "    df['Body'] = df['Body'].apply(lambda x: preprocess_text(x, remove_stopwords, use_lemmatize))\n",
    "    df['Tags'] = df['Tags'].apply(lambda x: preprocess_text(x, remove_stopwords, use_lemmatize))\n",
    "\n",
    "    # Combine Title, Body, and Tags with specified weight for Tags\n",
    "    df['CombinedText'] = df['Title'] + ' ' + df['Body'] + ' ' + (df['Tags'] * tags_weighting)\n",
    "\n",
    "    # Apply TF-IDF\n",
    "    tfidf_vectorizer = TfidfVectorizer(max_features=1000)\n",
    "    tfidf_matrix = tfidf_vectorizer.fit_transform(df['CombinedText'])\n",
    "\n",
    "    # Apply LDA for different numbers of topics\n",
    "    for n_topics in [5, 10, 15, 20]:\n",
    "        lda = LatentDirichletAllocation(n_components=n_topics, random_state=0)\n",
    "        lda.fit(tfidf_matrix)\n",
    "\n",
    "        # Extract and log the top words for each topic as a table\n",
    "        feature_names = tfidf_vectorizer.get_feature_names_out()\n",
    "        top_words_data = []\n",
    "        for topic_idx, topic in enumerate(lda.components_):\n",
    "            top_words = [feature_names[i] for i in topic.argsort()[:-10 - 1:-1]]\n",
    "            top_words_data.append([f\"Topic {topic_idx}\"] + top_words)\n",
    "\n",
    "        # Create a WandB Table with top words data\n",
    "        columns = [\"Topic\"] + [f\"Word {i+1}\" for i in range(10)]\n",
    "        top_words_table = wandb.Table(data=top_words_data, columns=columns)\n",
    "        \n",
    "        # Log the table to WandB\n",
    "        wandb.log({f\"n_topics_{n_topics}_cleaned_{str(remove_stopwords)}_lemmatize_{str(use_lemmatize)}_weight_{tags_weighting}\": top_words_table})\n",
    "\n",
    "    # Close WandB run\n",
    "    wandb.finish()"
   ]
  },
  {
   "cell_type": "code",
   "execution_count": null,
   "metadata": {},
   "outputs": [],
   "source": [
    "# Running different configurations\n",
    "apply_lda_and_log(df_posts[df_posts['PostTypeId'] == 1], \n",
    "                  remove_stopwords=False, \n",
    "                  use_lemmatize=False, \n",
    "                  tags_weighting=1, \n",
    "                  run_name=\"Baseline_LDA\")"
   ]
  },
  {
   "cell_type": "code",
   "execution_count": null,
   "metadata": {},
   "outputs": [],
   "source": [
    "apply_lda_and_log(df_posts[df_posts['PostTypeId'] == 1], \n",
    "                  remove_stopwords=True, \n",
    "                  use_lemmatize=False, \n",
    "                  combine_weights=2, \n",
    "                  run_name=\"StopwordsRemoved_LDA\")"
   ]
  },
  {
   "cell_type": "code",
   "execution_count": null,
   "metadata": {},
   "outputs": [],
   "source": [
    "apply_lda_and_log(df_posts[df_posts['PostTypeId'] == 1], \n",
    "                  remove_stopwords=True, \n",
    "                  use_lemmatize=True, \n",
    "                  combine_weights=2, \n",
    "                  run_name=\"StopwordsRemoved_Lemmatized_LDA\")"
   ]
  },
  {
   "cell_type": "code",
   "execution_count": null,
   "metadata": {},
   "outputs": [],
   "source": []
  },
  {
   "cell_type": "markdown",
   "metadata": {},
   "source": [
    "### Suggestions for Improvements\n",
    "- Adjust StopWords?\n",
    "- **Max Features** (TF-IDF)\n",
    "- **Experiment with N-grams**: Use bi-grams or tri-grams in your TF-IDF vectorization to capture phrases which could be more meaningful than individual words.\n",
    "- **Hyperparameter Tuning**: Tune the parameters of the LDA model, like learning decay and batch size, for potentially better results.\n",
    "- **Topic Coherence Score**: Use topic coherence measures to objectively select the number of topics.\n",
    "\n"
   ]
  },
  {
   "cell_type": "code",
   "execution_count": 27,
   "metadata": {},
   "outputs": [],
   "source": []
  },
  {
   "cell_type": "code",
   "execution_count": 28,
   "metadata": {},
   "outputs": [
    {
     "name": "stderr",
     "output_type": "stream",
     "text": [
      "/Users/phog/.pyenv/versions/3.11.0/lib/python3.11/site-packages/bs4/__init__.py:435: MarkupResemblesLocatorWarning: The input looks more like a filename than markup. You may want to open this file and pass the filehandle into Beautiful Soup.\n",
      "  warnings.warn(\n",
      "/var/folders/t0/tn_njz2x7w1_5n3k_13tz4740000gn/T/ipykernel_36243/2898175236.py:2: SettingWithCopyWarning: \n",
      "A value is trying to be set on a copy of a slice from a DataFrame.\n",
      "Try using .loc[row_indexer,col_indexer] = value instead\n",
      "\n",
      "See the caveats in the documentation: https://pandas.pydata.org/pandas-docs/stable/user_guide/indexing.html#returning-a-view-versus-a-copy\n",
      "  questions_df['Title'] = questions_df['Title'].apply(preprocess_text)\n"
     ]
    }
   ],
   "source": [
    "# Applying preprocessing to Title, Body, and Tags\n",
    "questions_df['Title'] = questions_df['Title'].apply(preprocess_text)"
   ]
  },
  {
   "cell_type": "code",
   "execution_count": 29,
   "metadata": {},
   "outputs": [
    {
     "name": "stderr",
     "output_type": "stream",
     "text": [
      "/var/folders/t0/tn_njz2x7w1_5n3k_13tz4740000gn/T/ipykernel_36243/1647963295.py:1: SettingWithCopyWarning: \n",
      "A value is trying to be set on a copy of a slice from a DataFrame.\n",
      "Try using .loc[row_indexer,col_indexer] = value instead\n",
      "\n",
      "See the caveats in the documentation: https://pandas.pydata.org/pandas-docs/stable/user_guide/indexing.html#returning-a-view-versus-a-copy\n",
      "  questions_df['Body'] = questions_df['Body'].apply(preprocess_text)\n"
     ]
    }
   ],
   "source": [
    "questions_df['Body'] = questions_df['Body'].apply(preprocess_text)"
   ]
  },
  {
   "cell_type": "code",
   "execution_count": 30,
   "metadata": {},
   "outputs": [
    {
     "name": "stderr",
     "output_type": "stream",
     "text": [
      "/var/folders/t0/tn_njz2x7w1_5n3k_13tz4740000gn/T/ipykernel_36243/1555071166.py:1: SettingWithCopyWarning: \n",
      "A value is trying to be set on a copy of a slice from a DataFrame.\n",
      "Try using .loc[row_indexer,col_indexer] = value instead\n",
      "\n",
      "See the caveats in the documentation: https://pandas.pydata.org/pandas-docs/stable/user_guide/indexing.html#returning-a-view-versus-a-copy\n",
      "  questions_df['Tags'] = questions_df['Tags'].apply(preprocess_text)\n"
     ]
    }
   ],
   "source": [
    "questions_df['Tags'] = questions_df['Tags'].apply(preprocess_text)"
   ]
  },
  {
   "cell_type": "code",
   "execution_count": 31,
   "metadata": {},
   "outputs": [],
   "source": [
    "questions_df.to_pickle('questions_cleaned_text.pkl')"
   ]
  },
  {
   "cell_type": "markdown",
   "metadata": {},
   "source": [
    "### Topic Modelling\n",
    "- TF-IDF\n",
    "    - Adjust `max_features`: Limiting or expanding the number of features (words) included in the TF-IDF matrix can impact topic quality.\n",
    "    - Change `ngram_range`: Including bi-grams or tri-grams (e.g., ngram_range=(1,2)) can sometimes help the model capture more meaningful phrases.\n",
    "\n",
    "- **Clustering to find the optimal number of Topics?**"
   ]
  },
  {
   "cell_type": "code",
   "execution_count": 32,
   "metadata": {},
   "outputs": [
    {
     "name": "stderr",
     "output_type": "stream",
     "text": [
      "/var/folders/t0/tn_njz2x7w1_5n3k_13tz4740000gn/T/ipykernel_36243/2071916370.py:4: SettingWithCopyWarning: \n",
      "A value is trying to be set on a copy of a slice from a DataFrame.\n",
      "Try using .loc[row_indexer,col_indexer] = value instead\n",
      "\n",
      "See the caveats in the documentation: https://pandas.pydata.org/pandas-docs/stable/user_guide/indexing.html#returning-a-view-versus-a-copy\n",
      "  questions_df['CombinedText'] = questions_df['Title'] + ' ' + questions_df['Body'] + ' ' + questions_df['Tags'] * 2\n"
     ]
    }
   ],
   "source": [
    "\n",
    "# Combine Title, Body, and Tags with more weight on Tags\n",
    "questions_df['CombinedText'] = questions_df['Title'] + ' ' + questions_df['Body'] + ' ' + questions_df['Tags'] * 2\n",
    "\n",
    "# Applying TF-IDF\n",
    "tfidf_vectorizer = TfidfVectorizer(max_features=1000) # You can adjust the number of features\n",
    "tfidf_matrix = tfidf_vectorizer.fit_transform(questions_df['CombinedText'])"
   ]
  },
  {
   "cell_type": "markdown",
   "metadata": {},
   "source": [
    "### LDA"
   ]
  },
  {
   "cell_type": "code",
   "execution_count": 33,
   "metadata": {},
   "outputs": [
    {
     "name": "stdout",
     "output_type": "stream",
     "text": [
      "Topic #0:\n",
      "tax government money pay budget income would federal cost state\n",
      "Topic #1:\n",
      "court president supreme state law power justice executive congress member\n",
      "Topic #2:\n",
      "vote election voting candidate party voter ballot state electoral system\n",
      "Topic #3:\n",
      "law state amendment constitution bill citizen right country citizenship act\n",
      "Topic #4:\n",
      "russia russian ukraine war nato sanction country iran military turkey\n",
      "Topic #5:\n",
      "china country covid eu debt bank 19 government chinese trade\n",
      "Topic #6:\n",
      "uk eu brexit parliament minister prime party deal mp referendum\n",
      "Topic #7:\n",
      "political party people democracy right country would government question like\n",
      "Topic #8:\n",
      "trump president republican senate election house vote democrat candidate party\n",
      "Topic #9:\n",
      "india pakistan country israel korea nuclear north china police war\n"
     ]
    }
   ],
   "source": [
    "\n",
    "# Number of topics\n",
    "n_topics = 10  # You can change this based on your requirements\n",
    "\n",
    "# Create and fit the LDA model\n",
    "lda = LatentDirichletAllocation(n_components=n_topics, random_state=0)\n",
    "lda_topics = lda.fit_transform(tfidf_matrix)\n",
    "\n",
    "# Displaying the top words in each topic\n",
    "feature_names = tfidf_vectorizer.get_feature_names_out()\n",
    "for topic_idx, topic in enumerate(lda.components_):\n",
    "    print(f\"Topic #{topic_idx}:\")\n",
    "    print(\" \".join([feature_names[i] for i in topic.argsort()[:-10 - 1:-1]]))"
   ]
  },
  {
   "cell_type": "code",
   "execution_count": null,
   "metadata": {},
   "outputs": [],
   "source": []
  },
  {
   "cell_type": "markdown",
   "metadata": {},
   "source": [
    "### NMF"
   ]
  },
  {
   "cell_type": "code",
   "execution_count": 34,
   "metadata": {},
   "outputs": [
    {
     "name": "stdout",
     "output_type": "stream",
     "text": [
      "Topic #0:\n",
      "people would political question right like one law make seems\n",
      "Topic #1:\n",
      "vote election candidate voting voter ballot presidential electoral result win\n",
      "Topic #2:\n",
      "president trump vice office donald impeachment presidential biden power would\n",
      "Topic #3:\n",
      "eu uk brexit european deal parliament member union trade agreement\n",
      "Topic #4:\n",
      "russia ukraine russian war nato putin military sanction ukrainian nuclear\n",
      "Topic #5:\n",
      "party political republican seat democratic democrat conservative labour leader system\n",
      "Topic #6:\n",
      "senate house bill congress senator representative vote majority republican member\n",
      "Topic #7:\n",
      "state united law court federal constitution amendment supreme shall legal\n",
      "Topic #8:\n",
      "country china india chinese pakistan korea world international nation usa\n",
      "Topic #9:\n",
      "government minister tax federal debt parliament prime power money budget\n"
     ]
    }
   ],
   "source": [
    "from sklearn.decomposition import NMF\n",
    "\n",
    "# Create and fit the NMF model\n",
    "nmf = NMF(n_components=n_topics, random_state=0)\n",
    "nmf_topics = nmf.fit_transform(tfidf_matrix)\n",
    "\n",
    "# Displaying the top words in each topic\n",
    "for topic_idx, topic in enumerate(nmf.components_):\n",
    "    print(f\"Topic #{topic_idx}:\")\n",
    "    print(\" \".join([feature_names[i] for i in topic.argsort()[:-10 - 1:-1]]))"
   ]
  },
  {
   "cell_type": "code",
   "execution_count": null,
   "metadata": {},
   "outputs": [],
   "source": []
  },
  {
   "cell_type": "code",
   "execution_count": null,
   "metadata": {},
   "outputs": [],
   "source": []
  },
  {
   "cell_type": "code",
   "execution_count": null,
   "metadata": {},
   "outputs": [],
   "source": []
  },
  {
   "cell_type": "code",
   "execution_count": null,
   "metadata": {},
   "outputs": [],
   "source": []
  }
 ],
 "metadata": {
  "kernelspec": {
   "display_name": "Python 3",
   "language": "python",
   "name": "python3"
  },
  "language_info": {
   "codemirror_mode": {
    "name": "ipython",
    "version": 3
   },
   "file_extension": ".py",
   "mimetype": "text/x-python",
   "name": "python",
   "nbconvert_exporter": "python",
   "pygments_lexer": "ipython3",
   "version": "3.10.4"
  }
 },
 "nbformat": 4,
 "nbformat_minor": 2
}
