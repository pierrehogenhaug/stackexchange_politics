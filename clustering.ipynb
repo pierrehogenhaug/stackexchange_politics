{
 "cells": [
  {
   "cell_type": "code",
   "execution_count": null,
   "metadata": {},
   "outputs": [],
   "source": [
    "from dask.diagnostics import ProgressBar\n",
    "from dask.distributed import Client\n",
    "from nltk.corpus import stopwords\n",
    "from nltk.sentiment import SentimentIntensityAnalyzer\n",
    "from nltk.stem import WordNetLemmatizer, PorterStemmer\n",
    "\n",
    "import dask.dataframe as dd\n",
    "import html\n",
    "import psutil\n",
    "import pandas as pd\n",
    "import pickle as pkl\n",
    "import re\n",
    "import time"
   ]
  },
  {
   "cell_type": "markdown",
   "metadata": {},
   "source": [
    "### Clustering Approach\n",
    "- K-Means\n",
    "\n",
    "**Choosing the Number of Clusters**\n",
    "- Elbow Method: Plot the sum of squared distances of samples to their closest cluster center. The \"elbow\" point where the rate of decrease sharply changes can suggest a good number of clusters.\n",
    "- Silhouette Score: Measures how similar an object is to its own cluster compared to other clusters. The higher the silhouette score, the better the clustering."
   ]
  },
  {
   "cell_type": "code",
   "execution_count": null,
   "metadata": {},
   "outputs": [],
   "source": []
  },
  {
   "cell_type": "markdown",
   "metadata": {},
   "source": [
    "### 1. Activity-Based Clustering\n",
    "Cluster by Total Activity: \n",
    "- Group users based on their total contributions, including \n",
    "    - question count, \n",
    "    - answer count, and \n",
    "    - comment count."
   ]
  },
  {
   "cell_type": "code",
   "execution_count": null,
   "metadata": {},
   "outputs": [],
   "source": []
  },
  {
   "cell_type": "markdown",
   "metadata": {},
   "source": [
    "### 2. Quality and Reputation-Based Clustering\n",
    "Cluster by Reputation and Scores: \n",
    "Group users based on \n",
    "- their reputation, \n",
    "- average question score, \n",
    "- average answer score, and \n",
    "- average comment score. \n",
    "\n",
    "This can help identify influential contributors.\n",
    "\n",
    "- Cluster by Accepted Answer Count and Fraction"
   ]
  },
  {
   "cell_type": "code",
   "execution_count": null,
   "metadata": {},
   "outputs": [],
   "source": []
  },
  {
   "cell_type": "markdown",
   "metadata": {},
   "source": [
    "### 3. Sentiment-Based Clustering\n",
    "- Cluster by Sentiment Scores: \n",
    "Use average sentiment scores from \n",
    "- questions, \n",
    "- answers, and \n",
    "- comments \n",
    "\n",
    "to identify users who generally express positive, neutral, or negative sentiments."
   ]
  },
  {
   "cell_type": "code",
   "execution_count": null,
   "metadata": {},
   "outputs": [],
   "source": []
  },
  {
   "cell_type": "markdown",
   "metadata": {},
   "source": [
    "### 4. Engagement-Based Clustering\n",
    "Cluster by \n",
    "- Views, \n",
    "- UpVotes, and \n",
    "- DownVotes: \n",
    "\n",
    "Group users based on how their content is received by the community."
   ]
  },
  {
   "cell_type": "code",
   "execution_count": null,
   "metadata": {},
   "outputs": [],
   "source": []
  },
  {
   "cell_type": "markdown",
   "metadata": {},
   "source": []
  }
 ],
 "metadata": {
  "kernelspec": {
   "display_name": "Python 3",
   "language": "python",
   "name": "python3"
  },
  "language_info": {
   "name": "python",
   "version": "3.10.4"
  }
 },
 "nbformat": 4,
 "nbformat_minor": 2
}
