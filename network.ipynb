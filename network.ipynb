{
 "cells": [
  {
   "cell_type": "code",
   "execution_count": 1,
   "metadata": {},
   "outputs": [
    {
     "name": "stderr",
     "output_type": "stream",
     "text": [
      "c:\\Users\\pih\\AppData\\Local\\Programs\\Python\\Python310\\lib\\site-packages\\requests\\__init__.py:102: RequestsDependencyWarning: urllib3 (1.26.18) or chardet (5.2.0)/charset_normalizer (2.0.12) doesn't match a supported version!\n",
      "  warnings.warn(\"urllib3 ({}) or chardet ({})/charset_normalizer ({}) doesn't match a supported \"\n"
     ]
    }
   ],
   "source": [
    "from bs4 import BeautifulSoup\n",
    "from gensim.models import CoherenceModel\n",
    "from nltk.stem import WordNetLemmatizer, PorterStemmer\n",
    "from nltk.corpus import stopwords\n",
    "from sklearn.decomposition import LatentDirichletAllocation, NMF\n",
    "from sklearn.feature_extraction.text import CountVectorizer\n",
    "from sklearn.feature_extraction.text import TfidfVectorizer\n",
    "\n",
    "import gensim.corpora as corpora\n",
    "import gensim\n",
    "import html\n",
    "import itertools\n",
    "import networkx as nx\n",
    "import nltk\n",
    "import numpy as np\n",
    "import pandas as pd\n",
    "import re"
   ]
  },
  {
   "cell_type": "code",
   "execution_count": null,
   "metadata": {},
   "outputs": [],
   "source": [
    "def add_nodes(graph, users):\n",
    "    for _, user in users.iterrows():\n",
    "        attributes = user.to_dict()\n",
    "        user_id = attributes.pop('Id')\n",
    "        graph.add_node(user_id, **attributes)\n",
    "\n",
    "def add_answer_edges(graph, posts):\n",
    "    answers = posts[(posts['PostTypeId'] == 2) & posts['ParentId'].notna() & posts['OwnerUserId'].notna()]\n",
    "    questions = posts[posts['PostTypeId'] == 1].set_index('Id')['OwnerUserId']\n",
    "\n",
    "    for answerer, question in zip(answers['OwnerUserId'], answers['ParentId']):\n",
    "        asker = questions.get(question)\n",
    "        if asker and answerer != asker:\n",
    "            graph.add_edge(answerer, asker)\n",
    "\n",
    "def add_comment_edges(graph, comments, posts):\n",
    "    comments = comments.dropna(subset=['PostId', 'UserId'])\n",
    "    post_owners = posts.set_index('Id')['OwnerUserId']\n",
    "\n",
    "    for commenter, post in zip(comments['UserId'], comments['PostId']):\n",
    "        owner = post_owners.get(post)\n",
    "        if owner and commenter != owner:\n",
    "            graph.add_edge(commenter, owner)\n",
    "\n",
    "def filter_active_users(users, posts, comments, min_activity):\n",
    "    post_counts = posts['OwnerUserId'].value_counts()\n",
    "    comment_counts = comments['UserId'].value_counts()\n",
    "    total_activity = post_counts.add(comment_counts, fill_value=0)\n",
    "\n",
    "    active_users = total_activity[total_activity >= min_activity].index\n",
    "    return users[users['Id'].isin(active_users)]\n",
    "\n",
    "def filter_active_posts(posts, active_users):\n",
    "    return posts[posts['OwnerUserId'].isin(active_users['Id'])]\n",
    "\n",
    "def filter_active_comments(comments, active_users, active_posts):\n",
    "    return comments[comments['UserId'].isin(active_users['Id']) & comments['PostId'].isin(active_posts['Id'])]\n",
    "\n"
   ]
  },
  {
   "cell_type": "code",
   "execution_count": null,
   "metadata": {},
   "outputs": [],
   "source": []
  },
  {
   "cell_type": "code",
   "execution_count": null,
   "metadata": {},
   "outputs": [],
   "source": []
  }
 ],
 "metadata": {
  "kernelspec": {
   "display_name": "Python 3",
   "language": "python",
   "name": "python3"
  },
  "language_info": {
   "codemirror_mode": {
    "name": "ipython",
    "version": 3
   },
   "file_extension": ".py",
   "mimetype": "text/x-python",
   "name": "python",
   "nbconvert_exporter": "python",
   "pygments_lexer": "ipython3",
   "version": "3.10.4"
  }
 },
 "nbformat": 4,
 "nbformat_minor": 2
}
