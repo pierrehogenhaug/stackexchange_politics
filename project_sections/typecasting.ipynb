{
 "cells": [
  {
   "cell_type": "markdown",
   "metadata": {},
   "source": [
    "## Stackexchange Politics: Political Forum Network Analysis"
   ]
  },
  {
   "cell_type": "markdown",
   "metadata": {},
   "source": [
    "<img src=\"./pickle_dataframes/networks (1).jpeg\" width=\"50%\" height=\"50%\">"
   ]
  },
  {
   "cell_type": "code",
   "execution_count": 9,
   "metadata": {},
   "outputs": [],
   "source": [
    "from dask.diagnostics import ProgressBar\n",
    "from dask.distributed import Client\n",
    "from nltk.corpus import stopwords\n",
    "from nltk.sentiment import SentimentIntensityAnalyzer\n",
    "from nltk.stem import WordNetLemmatizer, PorterStemmer\n",
    "\n",
    "import dask.dataframe as dd\n",
    "import html\n",
    "import numpy as np\n",
    "import psutil\n",
    "import pandas as pd\n",
    "import pickle as pkl\n",
    "import re\n",
    "import time"
   ]
  },
  {
   "cell_type": "code",
   "execution_count": 2,
   "metadata": {},
   "outputs": [],
   "source": [
    "# Load and merge dataframes\n",
    "comments = pd.concat([pd.read_pickle('./pickle_dataframes/comments1.pkl'),\n",
    "                      pd.read_pickle('./pickle_dataframes/comments2.pkl')]).reset_index(drop=True)\n",
    "\n",
    "posts = pd.concat([pd.read_pickle('./pickle_dataframes/posts1.pkl'),\n",
    "                   pd.read_pickle('./pickle_dataframes/posts2.pkl'),\n",
    "                   pd.read_pickle('./pickle_dataframes/posts3.pkl')]).reset_index(drop=True)\n",
    "\n",
    "users = pd.read_pickle('./pickle_dataframes/users.pkl')\n",
    "postlinks = pd.read_pickle('./pickle_dataframes/posts_links.pkl')\n",
    "tags = pd.read_pickle('./pickle_dataframes/tags.pkl')"
   ]
  },
  {
   "cell_type": "code",
   "execution_count": null,
   "metadata": {},
   "outputs": [],
   "source": [
    "comments = comments.astype({\n",
    "    'Id': 'int32',\n",
    "    'PostId': 'int32',\n",
    "    'Score': 'int16',\n",
    "    'Text': 'object',\n",
    "    'CreationDate': 'datetime64[ns]',\n",
    "    'UserId': 'int32'\n",
    "})"
   ]
  },
  {
   "cell_type": "code",
   "execution_count": null,
   "metadata": {},
   "outputs": [],
   "source": [
    "posts = posts.astype({\n",
    "    'Id': 'int32',\n",
    "    'PostTypeId': 'int32',\n",
    "    'ParentId': 'int32',\n",
    "    'AcceptedAnswerId': 'int16',\n",
    "    'CreationDate': 'datetime64[ns]',\n",
    "    'Score': 'int16',\n",
    "    'ViewCount': 'int32',\n",
    "    'Body': 'object',\n",
    "    'OwnerUserId': 'int32',\n",
    "    'LastActivityDate': 'datetime64[ns]',\n",
    "    'Title': 'string',\n",
    "    'Tags': 'string',\n",
    "    'AnswerCount': 'int16',\n",
    "    'CommentCount': 'int16'\n",
    "    #'FavoriteCount': 'int16'\n",
    "})"
   ]
  },
  {
   "cell_type": "code",
   "execution_count": null,
   "metadata": {},
   "outputs": [],
   "source": [
    "users = users.astype({\n",
    "    'Id': 'int32',\n",
    "    'Reputation': 'int32',\n",
    "    'CreationDate': 'datetime64[ns]',\n",
    "    'LastAccessDate': 'datetime64[ns]',\n",
    "    'Views': 'int32',\n",
    "    'UpVotes': 'int32',\n",
    "    'DownVotes': 'int32',\n",
    "})"
   ]
  },
  {
   "cell_type": "code",
   "execution_count": null,
   "metadata": {},
   "outputs": [],
   "source": [
    "postlinks = postlinks.astype({\n",
    "    'Id': 'int32',\n",
    "    'CreationDate': 'datetime64[ns]',\n",
    "    'PostId': 'int32',\n",
    "    'RelatedPostId': 'int32',\n",
    "    'LinkTypeId': 'uint8'\n",
    "})"
   ]
  },
  {
   "cell_type": "code",
   "execution_count": null,
   "metadata": {},
   "outputs": [],
   "source": [
    "tags = tags.astype({\n",
    "    'Id': 'int32',\n",
    "    'TagName': 'string',\n",
    "    'Count': 'int32'\n",
    "})"
   ]
  },
  {
   "cell_type": "markdown",
   "metadata": {},
   "source": [
    "### Save all DataFrames to pickles"
   ]
  },
  {
   "cell_type": "code",
   "execution_count": 10,
   "metadata": {},
   "outputs": [],
   "source": [
    "# \"comments\" and \"posts\" are too big\n",
    "\n",
    "#df_comments_1, df_comments_2 = np.array_split(df_comments, 2)\n",
    "#df_posts_1, df_posts_2, df_posts_3 = np.array_split(df_posts, 3)\n",
    "\n",
    "# df_comments_1.to_pickle('comments1.pkl')\n",
    "# df_comments_2.to_pickle('comments2.pkl')\n",
    "\n",
    "# df_posts_1.to_pickle('posts1.pkl')\n",
    "# df_posts_2.to_pickle('posts2.pkl')\n",
    "# df_posts_3.to_pickle('posts3.pkl')\n",
    "# \n",
    "# df_posts_links.to_pickle('posts_links.pkl')\n",
    "# df_tags.to_pickle('tags.pkl')\n",
    "# df_users.to_pickle('users.pkl')"
   ]
  },
  {
   "cell_type": "code",
   "execution_count": null,
   "metadata": {},
   "outputs": [],
   "source": []
  }
 ],
 "metadata": {
  "kernelspec": {
   "display_name": "Python 3",
   "language": "python",
   "name": "python3"
  },
  "language_info": {
   "codemirror_mode": {
    "name": "ipython",
    "version": 3
   },
   "file_extension": ".py",
   "mimetype": "text/x-python",
   "name": "python",
   "nbconvert_exporter": "python",
   "pygments_lexer": "ipython3",
   "version": "3.11.0"
  }
 },
 "nbformat": 4,
 "nbformat_minor": 2
}
