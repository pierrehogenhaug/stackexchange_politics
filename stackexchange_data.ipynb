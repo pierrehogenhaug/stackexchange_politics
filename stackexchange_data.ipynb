{
 "cells": [
  {
   "cell_type": "markdown",
   "metadata": {},
   "source": [
    "### Requirements"
   ]
  },
  {
   "cell_type": "code",
   "execution_count": 1,
   "metadata": {},
   "outputs": [],
   "source": [
    "import matplotlib.pyplot as plt\n",
    "import pandas as pd"
   ]
  },
  {
   "cell_type": "markdown",
   "metadata": {},
   "source": [
    "### Considerations\n",
    "\n",
    "Columns to consider including:\n",
    "- `DisplayName`.. That's how users mention each other '@ExampleDisplayName' but `DisplayName` has many missing values. \n",
    "\n",
    "Columns to consider excluding:\n",
    "- `Tags` should we create these ourselves?"
   ]
  },
  {
   "cell_type": "markdown",
   "metadata": {},
   "source": [
    "### Dataset introduction\n",
    "We have chosen to work with data from stackexchange.politics. The data is part of Stackoverflow's Data Dump: https://archive.org/details/stackexchange.\n",
    "\n",
    "For additional descriptions on the dataset, please refer to this meta.stackexchange post: https://meta.stackexchange.com/questions/2677/database-schema-documentation-for-the-public-data-dump-and-sede/2678#2678 \n",
    "\n",
    "**The tables we have chosen to work with:**\n",
    "- `Comments`\n",
    "- `Posts`\n",
    "- `PostLinks`\n",
    "- `Tags`\n",
    "- `Users`\n",
    "\n",
    "**The tables we have chosen to omit:**\n",
    "- `Badges`\n",
    "- `PostHistory`\n",
    "- `Votes`\n",
    "\n",
    "**The columns we have chosen to work with:**\n",
    "- `Comments`: 'Id', 'PostId', 'Score', 'Text', 'CreationDate', 'UserId'\n",
    "- `Posts`: 'Id', 'PostTypeId', 'ParentId', 'AcceptedAnswerId', 'CreationDate',\n",
    "       'Score', 'ViewCount', 'Body', 'OwnerUserId', 'LastActivityDate',\n",
    "       'Title', 'Tags', 'AnswerCount', 'CommentCount'\n",
    "- `PostLinks`: 'Id', 'CreationDate', 'PostId', 'RelatedPostId', 'LinkTypeId'\n",
    "- `Tags`: 'Id', 'TagName', 'Count'\n",
    "- `Users`: 'Id', 'Reputation', 'CreationDate', 'LastAccessDate', 'Views',\n",
    "       'UpVotes', 'DownVotes'\n",
    "\n",
    "**The columns we have chosen to omit:**\n",
    "- `Comments`: 'UserDisplayName', 'ContentLicense'\n",
    "- `Posts`: 'FavoriteCount', 'ContentLicense'\n",
    "- `PostLinks`:\n",
    "- `Tags`: 'ExcerptPostId', 'WikiPostId'\n",
    "- `Users`: 'WebsiteUrl', 'Location', 'AboutMe', 'Views', 'UpVotes', 'DownVotes', 'ProfileImageUrl', 'AccountId'\n"
   ]
  },
  {
   "cell_type": "markdown",
   "metadata": {},
   "source": [
    ">**ChatGPT** I want to discover communities and \"subject matter experts\" within the forum (my dataset). Therefore, I want to group every post into >the category that best describe it. Many posts have tags like \"<united-states>\", \"<congress>\", \"<european-union>\", \"<local-government>\", >\"<administrative-division>\" but a lot of posts have no tags. What could I use to find proper categorizing? (e.g. TF-IDF, LSH or similar). \n",
    ">\n",
    ">I want to ignore the preexistent tags and categorize all posts. How much control do I have on the amount of categories found? Thereafter, I want >to use clustering (e.g., K-means) to identify groups of users based on their activity patterns (like number of questions, answers, average likes, >and the category they engage the most in). Help me get started.  "
   ]
  },
  {
   "cell_type": "markdown",
   "metadata": {},
   "source": [
    "### Read in all dataframes"
   ]
  },
  {
   "cell_type": "code",
   "execution_count": 2,
   "metadata": {},
   "outputs": [],
   "source": [
    "# Define columns for each DataFrame\n",
    "comment_cols = ['Id', 'PostId', 'Score', 'Text', 'CreationDate', 'UserId']\n",
    "post_cols = [\n",
    "    'Id', 'PostTypeId', 'ParentId', 'AcceptedAnswerId', 'CreationDate', \n",
    "    'Score', 'ViewCount', 'Body', 'OwnerUserId', 'LastActivityDate', \n",
    "    'Title', 'Tags', 'AnswerCount', 'CommentCount'\n",
    "]\n",
    "post_links_cols = ['Id', 'CreationDate', 'PostId', 'RelatedPostId', 'LinkTypeId']\n",
    "tags_cols = ['Id', 'TagName', 'Count']\n",
    "user_cols = ['Id', 'Reputation', 'CreationDate', 'LastAccessDate', 'Views', 'UpVotes', 'DownVotes']\n",
    "\n",
    "# Load DataFrames\n",
    "df_comments = pd.read_csv('./output/Comments.csv', usecols=comment_cols)\n",
    "df_posts = pd.read_excel('./output/Posts.xlsx', usecols=post_cols)\n",
    "df_posts_links = pd.read_csv('./output/PostLinks.csv', usecols=post_links_cols)\n",
    "df_tags = pd.read_csv('./output/Tags.csv', usecols=tags_cols)\n",
    "df_users = pd.read_csv('./output/Users.csv', usecols=user_cols)"
   ]
  },
  {
   "cell_type": "markdown",
   "metadata": {},
   "source": [
    "### Missing values"
   ]
  },
  {
   "cell_type": "code",
   "execution_count": 3,
   "metadata": {},
   "outputs": [
    {
     "name": "stdout",
     "output_type": "stream",
     "text": [
      "df_comments.isnull().sum()\n",
      "UserId    8841\n",
      "dtype: int64\n",
      "\n",
      "df_posts.isnull().sum()\n",
      "ParentId            17652\n",
      "AcceptedAnswerId    45425\n",
      "ViewCount           37740\n",
      "Body                  602\n",
      "OwnerUserId          2322\n",
      "Title               37740\n",
      "Tags                37740\n",
      "AnswerCount         37740\n",
      "dtype: int64\n",
      "\n"
     ]
    }
   ],
   "source": [
    "if df_comments.isnull().sum().any():\n",
    "    print('df_comments.isnull().sum()', '\\n', df_comments.isnull().sum()[df_comments.isnull().sum() > 0], '\\n', sep='')\n",
    "\n",
    "if df_posts.isnull().sum().any():\n",
    "    print('df_posts.isnull().sum()', '\\n', df_posts.isnull().sum()[df_posts.isnull().sum() > 0], '\\n', sep='')\n",
    "\n",
    "if df_posts_links.isnull().sum().any():\n",
    "    print('df_posts_links.isnull().sum()', '\\n', df_posts_links.isnull().sum()[df_posts_links.isnull().sum() > 0], '\\n', sep='')\n",
    "\n",
    "if df_tags.isnull().sum().any():\n",
    "    print('df_tags.isnull().sum()', '\\n', df_tags.isnull().sum()[df_tags.isnull().sum() > 0], '\\n', sep='')\n",
    "\n",
    "if df_users.isnull().sum().any():\n",
    "    print('df_users.isnull().sum()', '\\n', df_users.isnull().sum()[df_users.isnull().sum() > 0], '\\n', sep='')"
   ]
  },
  {
   "cell_type": "markdown",
   "metadata": {},
   "source": [
    "**Trying to explain the missing values**\n",
    "\n",
    "\n",
    "**`df_comments`**\n",
    "- `UserId` is absent if the user has been deleted \n",
    "\n",
    "**`df_posts`**\n",
    "- `ParentId` only present if PostTypeId = 2\n",
    "- `AcceptedAnswerId` only present if PostTypeId = 1\n",
    "- `ViewCount` only present if PostTypeId = 1\n",
    "- `Body` not present in some PostTypeId = [4,5]. We will only look at PostTypeId = [1,2]\n",
    "    - PostTypeId = 1: Question\n",
    "    - PostTypeId = 2: Answer\n",
    "    - PostTypeId = 4: Tag wiki excerpt\n",
    "    - Check documentation\n",
    "- `OwnerUserId` only present if user has not been deleted\n",
    "- `Title` question title only present if PostTypeId = 1\n",
    "- `Tags` question tags only present if PostTypeId = 1    \n",
    "- `AnswerCount` only present if PostTypeId = 1\n",
    "\n",
    "**How we will take action**\n",
    "\n",
    "**`df_comments`**\n",
    "- `UserId`: Before we remove comments from deleted users, we want to calculate average sentiment of threads users engage in. To calculate the average sentiment polarity of a thread, we want to include every user's comments. We therefore temporarily replace missing `UserId` with (-1).\n",
    "\n",
    "**`df_posts`**\n",
    "- We're only interested in PostTypeId 1 (Question) and 2 (Answer), so we filter out other types.\n",
    "- For the below columns which are conditionally present, we fill missing values with a placeholder (-1 or 'Comment: N/A') \n",
    "    - ParentId, \n",
    "    - AcceptedAnswerId, \n",
    "    - ViewCount, \n",
    "    - Title, \n",
    "    - Tags, and \n",
    "    - AnswerCount\n",
    "- For OwnerUserId, similar to the UserId in comments, we fill missing values with a placeholder (-1)"
   ]
  },
  {
   "cell_type": "code",
   "execution_count": 4,
   "metadata": {},
   "outputs": [],
   "source": [
    "# df_comments\n",
    "df_comments['UserId'] = df_comments['UserId'].fillna(-1)\n",
    "\n",
    "# df_posts\n",
    "df_posts = df_posts[df_posts['PostTypeId'].isin([1, 2])]\n",
    "\n",
    "df_posts['OwnerUserId'] = df_posts['OwnerUserId'].fillna(-1)\n",
    "df_posts.fillna({'ParentId': -1, 'AcceptedAnswerId': -1, 'ViewCount': -1, 'Title': 'Comment: N/A', 'Tags': 'Comment: N/A', 'AnswerCount': -1}, inplace=True)"
   ]
  },
  {
   "cell_type": "code",
   "execution_count": 5,
   "metadata": {},
   "outputs": [
    {
     "name": "stdout",
     "output_type": "stream",
     "text": [
      "False\n",
      "False\n"
     ]
    }
   ],
   "source": [
    "print(df_comments.isnull().sum().any())\n",
    "print(df_posts.isnull().sum().any())"
   ]
  },
  {
   "cell_type": "markdown",
   "metadata": {},
   "source": [
    "### df_comments"
   ]
  },
  {
   "cell_type": "code",
   "execution_count": 6,
   "metadata": {},
   "outputs": [
    {
     "name": "stdout",
     "output_type": "stream",
     "text": [
      "<class 'pandas.core.frame.DataFrame'>\n",
      "RangeIndex: 184672 entries, 0 to 184671\n",
      "Data columns (total 6 columns):\n",
      " #   Column        Non-Null Count   Dtype  \n",
      "---  ------        --------------   -----  \n",
      " 0   Id            184672 non-null  int64  \n",
      " 1   PostId        184672 non-null  int64  \n",
      " 2   Score         184672 non-null  int64  \n",
      " 3   Text          184672 non-null  object \n",
      " 4   CreationDate  184672 non-null  object \n",
      " 5   UserId        184672 non-null  float64\n",
      "dtypes: float64(1), int64(3), object(2)\n",
      "memory usage: 8.5+ MB\n",
      "None \n",
      "\n"
     ]
    }
   ],
   "source": [
    "print(df_comments.info(), '\\n')"
   ]
  },
  {
   "cell_type": "markdown",
   "metadata": {},
   "source": [
    "### Quick look the dataframe"
   ]
  },
  {
   "cell_type": "code",
   "execution_count": 7,
   "metadata": {},
   "outputs": [
    {
     "data": {
      "text/html": [
       "<div>\n",
       "<style scoped>\n",
       "    .dataframe tbody tr th:only-of-type {\n",
       "        vertical-align: middle;\n",
       "    }\n",
       "\n",
       "    .dataframe tbody tr th {\n",
       "        vertical-align: top;\n",
       "    }\n",
       "\n",
       "    .dataframe thead th {\n",
       "        text-align: right;\n",
       "    }\n",
       "</style>\n",
       "<table border=\"1\" class=\"dataframe\">\n",
       "  <thead>\n",
       "    <tr style=\"text-align: right;\">\n",
       "      <th></th>\n",
       "      <th>Id</th>\n",
       "      <th>PostId</th>\n",
       "      <th>Score</th>\n",
       "      <th>Text</th>\n",
       "      <th>CreationDate</th>\n",
       "      <th>UserId</th>\n",
       "    </tr>\n",
       "  </thead>\n",
       "  <tbody>\n",
       "    <tr>\n",
       "      <th>0</th>\n",
       "      <td>1</td>\n",
       "      <td>1</td>\n",
       "      <td>9</td>\n",
       "      <td>Is it fair to inquire about the disadvantages ...</td>\n",
       "      <td>2012-12-04T22:00:00.933</td>\n",
       "      <td>28.0</td>\n",
       "    </tr>\n",
       "    <tr>\n",
       "      <th>1</th>\n",
       "      <td>3</td>\n",
       "      <td>1</td>\n",
       "      <td>3</td>\n",
       "      <td>I could have reformulated the question, but at...</td>\n",
       "      <td>2012-12-04T22:02:37.737</td>\n",
       "      <td>18.0</td>\n",
       "    </tr>\n",
       "    <tr>\n",
       "      <th>2</th>\n",
       "      <td>7</td>\n",
       "      <td>2</td>\n",
       "      <td>2</td>\n",
       "      <td>Source on this? I don't see how it could possi...</td>\n",
       "      <td>2012-12-04T22:10:10.070</td>\n",
       "      <td>45.0</td>\n",
       "    </tr>\n",
       "    <tr>\n",
       "      <th>3</th>\n",
       "      <td>13</td>\n",
       "      <td>2</td>\n",
       "      <td>1</td>\n",
       "      <td>@Nick122 In a parliamentary system like the No...</td>\n",
       "      <td>2012-12-04T22:14:33.463</td>\n",
       "      <td>43.0</td>\n",
       "    </tr>\n",
       "    <tr>\n",
       "      <th>4</th>\n",
       "      <td>15</td>\n",
       "      <td>2</td>\n",
       "      <td>0</td>\n",
       "      <td>Yes, but you will give a negative vote by voti...</td>\n",
       "      <td>2012-12-04T22:16:29.437</td>\n",
       "      <td>45.0</td>\n",
       "    </tr>\n",
       "  </tbody>\n",
       "</table>\n",
       "</div>"
      ],
      "text/plain": [
       "   Id  PostId  Score                                               Text   \n",
       "0   1       1      9  Is it fair to inquire about the disadvantages ...  \\\n",
       "1   3       1      3  I could have reformulated the question, but at...   \n",
       "2   7       2      2  Source on this? I don't see how it could possi...   \n",
       "3  13       2      1  @Nick122 In a parliamentary system like the No...   \n",
       "4  15       2      0  Yes, but you will give a negative vote by voti...   \n",
       "\n",
       "              CreationDate  UserId  \n",
       "0  2012-12-04T22:00:00.933    28.0  \n",
       "1  2012-12-04T22:02:37.737    18.0  \n",
       "2  2012-12-04T22:10:10.070    45.0  \n",
       "3  2012-12-04T22:14:33.463    43.0  \n",
       "4  2012-12-04T22:16:29.437    45.0  "
      ]
     },
     "execution_count": 7,
     "metadata": {},
     "output_type": "execute_result"
    }
   ],
   "source": [
    "df_comments.head()"
   ]
  },
  {
   "cell_type": "markdown",
   "metadata": {},
   "source": [
    "### Typecasting"
   ]
  },
  {
   "cell_type": "code",
   "execution_count": 8,
   "metadata": {},
   "outputs": [],
   "source": [
    "df_comments = df_comments.astype({\n",
    "    'Id': 'int32',\n",
    "    'PostId': 'int32',\n",
    "    'Score': 'int16',\n",
    "    'Text': 'object',\n",
    "    'CreationDate': 'datetime64[ns]',\n",
    "    #'UserDisplayName': 'string',\n",
    "    'UserId': 'int32'\n",
    "})"
   ]
  },
  {
   "cell_type": "code",
   "execution_count": 9,
   "metadata": {},
   "outputs": [
    {
     "name": "stdout",
     "output_type": "stream",
     "text": [
      "<class 'pandas.core.frame.DataFrame'>\n",
      "RangeIndex: 184672 entries, 0 to 184671\n",
      "Data columns (total 6 columns):\n",
      " #   Column        Non-Null Count   Dtype         \n",
      "---  ------        --------------   -----         \n",
      " 0   Id            184672 non-null  int32         \n",
      " 1   PostId        184672 non-null  int32         \n",
      " 2   Score         184672 non-null  int16         \n",
      " 3   Text          184672 non-null  object        \n",
      " 4   CreationDate  184672 non-null  datetime64[ns]\n",
      " 5   UserId        184672 non-null  int32         \n",
      "dtypes: datetime64[ns](1), int16(1), int32(3), object(1)\n",
      "memory usage: 5.3+ MB\n"
     ]
    }
   ],
   "source": [
    "df_comments.info()\n"
   ]
  },
  {
   "cell_type": "markdown",
   "metadata": {},
   "source": [
    "### df_posts"
   ]
  },
  {
   "cell_type": "code",
   "execution_count": 10,
   "metadata": {},
   "outputs": [
    {
     "name": "stdout",
     "output_type": "stream",
     "text": [
      "<class 'pandas.core.frame.DataFrame'>\n",
      "Index: 52092 entries, 0 to 53741\n",
      "Data columns (total 14 columns):\n",
      " #   Column            Non-Null Count  Dtype  \n",
      "---  ------            --------------  -----  \n",
      " 0   Id                52092 non-null  int64  \n",
      " 1   PostTypeId        52092 non-null  int64  \n",
      " 2   ParentId          52092 non-null  float64\n",
      " 3   AcceptedAnswerId  52092 non-null  float64\n",
      " 4   CreationDate      52092 non-null  object \n",
      " 5   Score             52092 non-null  int64  \n",
      " 6   ViewCount         52092 non-null  float64\n",
      " 7   Body              52092 non-null  object \n",
      " 8   OwnerUserId       52092 non-null  float64\n",
      " 9   LastActivityDate  52092 non-null  object \n",
      " 10  Title             52092 non-null  object \n",
      " 11  Tags              52092 non-null  object \n",
      " 12  AnswerCount       52092 non-null  float64\n",
      " 13  CommentCount      52092 non-null  int64  \n",
      "dtypes: float64(5), int64(4), object(5)\n",
      "memory usage: 6.0+ MB\n"
     ]
    }
   ],
   "source": [
    "df_posts.info()"
   ]
  },
  {
   "cell_type": "markdown",
   "metadata": {},
   "source": [
    "### Quick look the posts dataframe"
   ]
  },
  {
   "cell_type": "code",
   "execution_count": 11,
   "metadata": {},
   "outputs": [
    {
     "data": {
      "text/html": [
       "<div>\n",
       "<style scoped>\n",
       "    .dataframe tbody tr th:only-of-type {\n",
       "        vertical-align: middle;\n",
       "    }\n",
       "\n",
       "    .dataframe tbody tr th {\n",
       "        vertical-align: top;\n",
       "    }\n",
       "\n",
       "    .dataframe thead th {\n",
       "        text-align: right;\n",
       "    }\n",
       "</style>\n",
       "<table border=\"1\" class=\"dataframe\">\n",
       "  <thead>\n",
       "    <tr style=\"text-align: right;\">\n",
       "      <th></th>\n",
       "      <th>Id</th>\n",
       "      <th>PostTypeId</th>\n",
       "      <th>ParentId</th>\n",
       "      <th>AcceptedAnswerId</th>\n",
       "      <th>CreationDate</th>\n",
       "      <th>Score</th>\n",
       "      <th>ViewCount</th>\n",
       "      <th>Body</th>\n",
       "      <th>OwnerUserId</th>\n",
       "      <th>LastActivityDate</th>\n",
       "      <th>Title</th>\n",
       "      <th>Tags</th>\n",
       "      <th>AnswerCount</th>\n",
       "      <th>CommentCount</th>\n",
       "    </tr>\n",
       "  </thead>\n",
       "  <tbody>\n",
       "    <tr>\n",
       "      <th>0</th>\n",
       "      <td>1</td>\n",
       "      <td>1</td>\n",
       "      <td>-1.0</td>\n",
       "      <td>5.0</td>\n",
       "      <td>2012-12-04T21:40:29.743</td>\n",
       "      <td>42</td>\n",
       "      <td>8309.0</td>\n",
       "      <td>&lt;p&gt;We all know the situation could arise in th...</td>\n",
       "      <td>18.0</td>\n",
       "      <td>2019-06-29T09:18:38.430</td>\n",
       "      <td>What are the disadvantages of first-past-the-p...</td>\n",
       "      <td>&lt;election&gt;&lt;voting-systems&gt;&lt;first-past-the-post&gt;</td>\n",
       "      <td>3.0</td>\n",
       "      <td>3</td>\n",
       "    </tr>\n",
       "    <tr>\n",
       "      <th>1</th>\n",
       "      <td>2</td>\n",
       "      <td>1</td>\n",
       "      <td>-1.0</td>\n",
       "      <td>19.0</td>\n",
       "      <td>2012-12-04T21:53:18.800</td>\n",
       "      <td>26</td>\n",
       "      <td>7832.0</td>\n",
       "      <td>&lt;p&gt;I've heard that mathematically it can be sh...</td>\n",
       "      <td>21.0</td>\n",
       "      <td>2017-05-03T13:53:26.063</td>\n",
       "      <td>Why can't voting be fair if there are more tha...</td>\n",
       "      <td>&lt;voting&gt;&lt;political-theory&gt;&lt;voting-systems&gt;</td>\n",
       "      <td>4.0</td>\n",
       "      <td>3</td>\n",
       "    </tr>\n",
       "    <tr>\n",
       "      <th>2</th>\n",
       "      <td>4</td>\n",
       "      <td>2</td>\n",
       "      <td>1.0</td>\n",
       "      <td>-1.0</td>\n",
       "      <td>2012-12-04T21:58:11.187</td>\n",
       "      <td>7</td>\n",
       "      <td>-1.0</td>\n",
       "      <td>&lt;p&gt;First-past-the-post voting tends to result ...</td>\n",
       "      <td>26.0</td>\n",
       "      <td>2012-12-04T21:58:11.187</td>\n",
       "      <td>Comment: N/A</td>\n",
       "      <td>Comment: N/A</td>\n",
       "      <td>-1.0</td>\n",
       "      <td>1</td>\n",
       "    </tr>\n",
       "    <tr>\n",
       "      <th>3</th>\n",
       "      <td>5</td>\n",
       "      <td>2</td>\n",
       "      <td>1.0</td>\n",
       "      <td>-1.0</td>\n",
       "      <td>2012-12-04T21:58:39.037</td>\n",
       "      <td>47</td>\n",
       "      <td>-1.0</td>\n",
       "      <td>&lt;p&gt;Simple plurality voting has very little in ...</td>\n",
       "      <td>8.0</td>\n",
       "      <td>2012-12-04T22:04:42.767</td>\n",
       "      <td>Comment: N/A</td>\n",
       "      <td>Comment: N/A</td>\n",
       "      <td>-1.0</td>\n",
       "      <td>1</td>\n",
       "    </tr>\n",
       "    <tr>\n",
       "      <th>4</th>\n",
       "      <td>6</td>\n",
       "      <td>1</td>\n",
       "      <td>-1.0</td>\n",
       "      <td>28.0</td>\n",
       "      <td>2012-12-04T21:58:47.500</td>\n",
       "      <td>46</td>\n",
       "      <td>68096.0</td>\n",
       "      <td>&lt;p&gt;Living in a country where mandatory voting ...</td>\n",
       "      <td>18.0</td>\n",
       "      <td>2019-02-03T17:38:05.237</td>\n",
       "      <td>What are the advantages/disadvantages of a man...</td>\n",
       "      <td>&lt;voting&gt;&lt;voting-systems&gt;</td>\n",
       "      <td>8.0</td>\n",
       "      <td>5</td>\n",
       "    </tr>\n",
       "  </tbody>\n",
       "</table>\n",
       "</div>"
      ],
      "text/plain": [
       "   Id  PostTypeId  ParentId  AcceptedAnswerId             CreationDate  Score   \n",
       "0   1           1      -1.0               5.0  2012-12-04T21:40:29.743     42  \\\n",
       "1   2           1      -1.0              19.0  2012-12-04T21:53:18.800     26   \n",
       "2   4           2       1.0              -1.0  2012-12-04T21:58:11.187      7   \n",
       "3   5           2       1.0              -1.0  2012-12-04T21:58:39.037     47   \n",
       "4   6           1      -1.0              28.0  2012-12-04T21:58:47.500     46   \n",
       "\n",
       "   ViewCount                                               Body  OwnerUserId   \n",
       "0     8309.0  <p>We all know the situation could arise in th...         18.0  \\\n",
       "1     7832.0  <p>I've heard that mathematically it can be sh...         21.0   \n",
       "2       -1.0  <p>First-past-the-post voting tends to result ...         26.0   \n",
       "3       -1.0  <p>Simple plurality voting has very little in ...          8.0   \n",
       "4    68096.0  <p>Living in a country where mandatory voting ...         18.0   \n",
       "\n",
       "          LastActivityDate                                              Title   \n",
       "0  2019-06-29T09:18:38.430  What are the disadvantages of first-past-the-p...  \\\n",
       "1  2017-05-03T13:53:26.063  Why can't voting be fair if there are more tha...   \n",
       "2  2012-12-04T21:58:11.187                                       Comment: N/A   \n",
       "3  2012-12-04T22:04:42.767                                       Comment: N/A   \n",
       "4  2019-02-03T17:38:05.237  What are the advantages/disadvantages of a man...   \n",
       "\n",
       "                                              Tags  AnswerCount  CommentCount  \n",
       "0  <election><voting-systems><first-past-the-post>          3.0             3  \n",
       "1       <voting><political-theory><voting-systems>          4.0             3  \n",
       "2                                     Comment: N/A         -1.0             1  \n",
       "3                                     Comment: N/A         -1.0             1  \n",
       "4                         <voting><voting-systems>          8.0             5  "
      ]
     },
     "execution_count": 11,
     "metadata": {},
     "output_type": "execute_result"
    }
   ],
   "source": [
    "df_posts.head()"
   ]
  },
  {
   "cell_type": "markdown",
   "metadata": {},
   "source": [
    "### Typecasting"
   ]
  },
  {
   "cell_type": "code",
   "execution_count": 12,
   "metadata": {},
   "outputs": [],
   "source": [
    "df_posts = df_posts.astype({\n",
    "    'Id': 'int32',\n",
    "    'PostTypeId': 'int32',\n",
    "    'ParentId': 'int32',\n",
    "    'AcceptedAnswerId': 'int16',\n",
    "    'CreationDate': 'datetime64[ns]',\n",
    "    'Score': 'int16',\n",
    "    'ViewCount': 'int32',\n",
    "    'Body': 'object',\n",
    "    'OwnerUserId': 'int32',\n",
    "    'LastActivityDate': 'datetime64[ns]',\n",
    "    'Title': 'string',\n",
    "    'Tags': 'string',\n",
    "    'AnswerCount': 'int16',\n",
    "    'CommentCount': 'int16'\n",
    "    #'FavoriteCount': 'int16'\n",
    "})"
   ]
  },
  {
   "cell_type": "code",
   "execution_count": 13,
   "metadata": {},
   "outputs": [
    {
     "name": "stdout",
     "output_type": "stream",
     "text": [
      "<class 'pandas.core.frame.DataFrame'>\n",
      "Index: 52092 entries, 0 to 53741\n",
      "Data columns (total 14 columns):\n",
      " #   Column            Non-Null Count  Dtype         \n",
      "---  ------            --------------  -----         \n",
      " 0   Id                52092 non-null  int32         \n",
      " 1   PostTypeId        52092 non-null  int32         \n",
      " 2   ParentId          52092 non-null  int32         \n",
      " 3   AcceptedAnswerId  52092 non-null  int16         \n",
      " 4   CreationDate      52092 non-null  datetime64[ns]\n",
      " 5   Score             52092 non-null  int16         \n",
      " 6   ViewCount         52092 non-null  int32         \n",
      " 7   Body              52092 non-null  object        \n",
      " 8   OwnerUserId       52092 non-null  int32         \n",
      " 9   LastActivityDate  52092 non-null  datetime64[ns]\n",
      " 10  Title             52092 non-null  string        \n",
      " 11  Tags              52092 non-null  string        \n",
      " 12  AnswerCount       52092 non-null  int16         \n",
      " 13  CommentCount      52092 non-null  int16         \n",
      "dtypes: datetime64[ns](2), int16(4), int32(5), object(1), string(2)\n",
      "memory usage: 3.8+ MB\n"
     ]
    }
   ],
   "source": [
    "df_posts.info()\n"
   ]
  },
  {
   "cell_type": "markdown",
   "metadata": {},
   "source": [
    "### df_posts_links"
   ]
  },
  {
   "cell_type": "code",
   "execution_count": 14,
   "metadata": {},
   "outputs": [
    {
     "name": "stdout",
     "output_type": "stream",
     "text": [
      "<class 'pandas.core.frame.DataFrame'>\n",
      "RangeIndex: 6741 entries, 0 to 6740\n",
      "Data columns (total 5 columns):\n",
      " #   Column         Non-Null Count  Dtype \n",
      "---  ------         --------------  ----- \n",
      " 0   Id             6741 non-null   int64 \n",
      " 1   CreationDate   6741 non-null   object\n",
      " 2   PostId         6741 non-null   int64 \n",
      " 3   RelatedPostId  6741 non-null   int64 \n",
      " 4   LinkTypeId     6741 non-null   int64 \n",
      "dtypes: int64(4), object(1)\n",
      "memory usage: 263.4+ KB\n"
     ]
    }
   ],
   "source": [
    "df_posts_links.info()"
   ]
  },
  {
   "cell_type": "markdown",
   "metadata": {},
   "source": [
    "### Quick look the posts dataframe"
   ]
  },
  {
   "cell_type": "code",
   "execution_count": 15,
   "metadata": {},
   "outputs": [
    {
     "data": {
      "text/html": [
       "<div>\n",
       "<style scoped>\n",
       "    .dataframe tbody tr th:only-of-type {\n",
       "        vertical-align: middle;\n",
       "    }\n",
       "\n",
       "    .dataframe tbody tr th {\n",
       "        vertical-align: top;\n",
       "    }\n",
       "\n",
       "    .dataframe thead th {\n",
       "        text-align: right;\n",
       "    }\n",
       "</style>\n",
       "<table border=\"1\" class=\"dataframe\">\n",
       "  <thead>\n",
       "    <tr style=\"text-align: right;\">\n",
       "      <th></th>\n",
       "      <th>Id</th>\n",
       "      <th>CreationDate</th>\n",
       "      <th>PostId</th>\n",
       "      <th>RelatedPostId</th>\n",
       "      <th>LinkTypeId</th>\n",
       "    </tr>\n",
       "  </thead>\n",
       "  <tbody>\n",
       "    <tr>\n",
       "      <th>0</th>\n",
       "      <td>99</td>\n",
       "      <td>2012-12-04T22:41:53.173</td>\n",
       "      <td>24</td>\n",
       "      <td>17</td>\n",
       "      <td>1</td>\n",
       "    </tr>\n",
       "    <tr>\n",
       "      <th>1</th>\n",
       "      <td>100</td>\n",
       "      <td>2012-12-04T22:46:20.033</td>\n",
       "      <td>20</td>\n",
       "      <td>1</td>\n",
       "      <td>1</td>\n",
       "    </tr>\n",
       "    <tr>\n",
       "      <th>2</th>\n",
       "      <td>801</td>\n",
       "      <td>2012-12-05T03:43:30.060</td>\n",
       "      <td>80</td>\n",
       "      <td>79</td>\n",
       "      <td>1</td>\n",
       "    </tr>\n",
       "    <tr>\n",
       "      <th>3</th>\n",
       "      <td>1693</td>\n",
       "      <td>2012-12-05T23:37:39.180</td>\n",
       "      <td>142</td>\n",
       "      <td>97</td>\n",
       "      <td>1</td>\n",
       "    </tr>\n",
       "    <tr>\n",
       "      <th>4</th>\n",
       "      <td>1719</td>\n",
       "      <td>2012-12-06T00:03:31.410</td>\n",
       "      <td>133</td>\n",
       "      <td>131</td>\n",
       "      <td>1</td>\n",
       "    </tr>\n",
       "  </tbody>\n",
       "</table>\n",
       "</div>"
      ],
      "text/plain": [
       "     Id             CreationDate  PostId  RelatedPostId  LinkTypeId\n",
       "0    99  2012-12-04T22:41:53.173      24             17           1\n",
       "1   100  2012-12-04T22:46:20.033      20              1           1\n",
       "2   801  2012-12-05T03:43:30.060      80             79           1\n",
       "3  1693  2012-12-05T23:37:39.180     142             97           1\n",
       "4  1719  2012-12-06T00:03:31.410     133            131           1"
      ]
     },
     "execution_count": 15,
     "metadata": {},
     "output_type": "execute_result"
    }
   ],
   "source": [
    "df_posts_links.head()"
   ]
  },
  {
   "cell_type": "markdown",
   "metadata": {},
   "source": [
    "### Typecasting"
   ]
  },
  {
   "cell_type": "code",
   "execution_count": 16,
   "metadata": {},
   "outputs": [],
   "source": [
    "df_posts_links = df_posts_links.astype({\n",
    "    'Id': 'int32',\n",
    "    'CreationDate': 'datetime64[ns]',\n",
    "    'PostId': 'int32',\n",
    "    'RelatedPostId': 'int32',\n",
    "    'LinkTypeId': 'uint8'\n",
    "})"
   ]
  },
  {
   "cell_type": "code",
   "execution_count": 17,
   "metadata": {},
   "outputs": [
    {
     "name": "stdout",
     "output_type": "stream",
     "text": [
      "<class 'pandas.core.frame.DataFrame'>\n",
      "RangeIndex: 6741 entries, 0 to 6740\n",
      "Data columns (total 5 columns):\n",
      " #   Column         Non-Null Count  Dtype         \n",
      "---  ------         --------------  -----         \n",
      " 0   Id             6741 non-null   int32         \n",
      " 1   CreationDate   6741 non-null   datetime64[ns]\n",
      " 2   PostId         6741 non-null   int32         \n",
      " 3   RelatedPostId  6741 non-null   int32         \n",
      " 4   LinkTypeId     6741 non-null   uint8         \n",
      "dtypes: datetime64[ns](1), int32(3), uint8(1)\n",
      "memory usage: 138.4 KB\n"
     ]
    }
   ],
   "source": [
    "df_posts_links.info()"
   ]
  },
  {
   "cell_type": "markdown",
   "metadata": {},
   "source": [
    "### df_tags"
   ]
  },
  {
   "cell_type": "code",
   "execution_count": 18,
   "metadata": {},
   "outputs": [
    {
     "name": "stdout",
     "output_type": "stream",
     "text": [
      "<class 'pandas.core.frame.DataFrame'>\n",
      "RangeIndex: 829 entries, 0 to 828\n",
      "Data columns (total 3 columns):\n",
      " #   Column   Non-Null Count  Dtype \n",
      "---  ------   --------------  ----- \n",
      " 0   Id       829 non-null    int64 \n",
      " 1   TagName  829 non-null    object\n",
      " 2   Count    829 non-null    int64 \n",
      "dtypes: int64(2), object(1)\n",
      "memory usage: 19.6+ KB\n"
     ]
    }
   ],
   "source": [
    "df_tags.info()"
   ]
  },
  {
   "cell_type": "markdown",
   "metadata": {},
   "source": [
    "### Quick look the posts dataframe"
   ]
  },
  {
   "cell_type": "code",
   "execution_count": 19,
   "metadata": {},
   "outputs": [
    {
     "data": {
      "text/html": [
       "<div>\n",
       "<style scoped>\n",
       "    .dataframe tbody tr th:only-of-type {\n",
       "        vertical-align: middle;\n",
       "    }\n",
       "\n",
       "    .dataframe tbody tr th {\n",
       "        vertical-align: top;\n",
       "    }\n",
       "\n",
       "    .dataframe thead th {\n",
       "        text-align: right;\n",
       "    }\n",
       "</style>\n",
       "<table border=\"1\" class=\"dataframe\">\n",
       "  <thead>\n",
       "    <tr style=\"text-align: right;\">\n",
       "      <th></th>\n",
       "      <th>Id</th>\n",
       "      <th>TagName</th>\n",
       "      <th>Count</th>\n",
       "    </tr>\n",
       "  </thead>\n",
       "  <tbody>\n",
       "    <tr>\n",
       "      <th>0</th>\n",
       "      <td>3</td>\n",
       "      <td>voting-systems</td>\n",
       "      <td>242</td>\n",
       "    </tr>\n",
       "    <tr>\n",
       "      <th>1</th>\n",
       "      <td>6</td>\n",
       "      <td>referendum</td>\n",
       "      <td>99</td>\n",
       "    </tr>\n",
       "    <tr>\n",
       "      <th>2</th>\n",
       "      <td>7</td>\n",
       "      <td>voting</td>\n",
       "      <td>488</td>\n",
       "    </tr>\n",
       "    <tr>\n",
       "      <th>3</th>\n",
       "      <td>8</td>\n",
       "      <td>parties</td>\n",
       "      <td>416</td>\n",
       "    </tr>\n",
       "    <tr>\n",
       "      <th>4</th>\n",
       "      <td>11</td>\n",
       "      <td>international</td>\n",
       "      <td>302</td>\n",
       "    </tr>\n",
       "  </tbody>\n",
       "</table>\n",
       "</div>"
      ],
      "text/plain": [
       "   Id         TagName  Count\n",
       "0   3  voting-systems    242\n",
       "1   6      referendum     99\n",
       "2   7          voting    488\n",
       "3   8         parties    416\n",
       "4  11   international    302"
      ]
     },
     "execution_count": 19,
     "metadata": {},
     "output_type": "execute_result"
    }
   ],
   "source": [
    "df_tags.head()"
   ]
  },
  {
   "cell_type": "markdown",
   "metadata": {},
   "source": [
    "### Typecasting"
   ]
  },
  {
   "cell_type": "code",
   "execution_count": 20,
   "metadata": {},
   "outputs": [],
   "source": [
    "df_tags = df_tags.astype({\n",
    "    'Id': 'int32',\n",
    "    'TagName': 'string',\n",
    "    'Count': 'int32'\n",
    "    #'ExcerptPostId': 'int32',\n",
    "    #'WikiPostId': 'int32'\n",
    "})"
   ]
  },
  {
   "cell_type": "code",
   "execution_count": 21,
   "metadata": {},
   "outputs": [
    {
     "name": "stdout",
     "output_type": "stream",
     "text": [
      "<class 'pandas.core.frame.DataFrame'>\n",
      "RangeIndex: 829 entries, 0 to 828\n",
      "Data columns (total 3 columns):\n",
      " #   Column   Non-Null Count  Dtype \n",
      "---  ------   --------------  ----- \n",
      " 0   Id       829 non-null    int32 \n",
      " 1   TagName  829 non-null    string\n",
      " 2   Count    829 non-null    int32 \n",
      "dtypes: int32(2), string(1)\n",
      "memory usage: 13.1 KB\n"
     ]
    }
   ],
   "source": [
    "df_tags.info()\n"
   ]
  },
  {
   "cell_type": "markdown",
   "metadata": {},
   "source": [
    "### df_users"
   ]
  },
  {
   "cell_type": "code",
   "execution_count": 22,
   "metadata": {},
   "outputs": [
    {
     "name": "stdout",
     "output_type": "stream",
     "text": [
      "<class 'pandas.core.frame.DataFrame'>\n",
      "RangeIndex: 38788 entries, 0 to 38787\n",
      "Data columns (total 7 columns):\n",
      " #   Column          Non-Null Count  Dtype \n",
      "---  ------          --------------  ----- \n",
      " 0   Id              38788 non-null  int64 \n",
      " 1   Reputation      38788 non-null  int64 \n",
      " 2   CreationDate    38788 non-null  object\n",
      " 3   LastAccessDate  38788 non-null  object\n",
      " 4   Views           38788 non-null  int64 \n",
      " 5   UpVotes         38788 non-null  int64 \n",
      " 6   DownVotes       38788 non-null  int64 \n",
      "dtypes: int64(5), object(2)\n",
      "memory usage: 2.1+ MB\n"
     ]
    }
   ],
   "source": [
    "df_users.info()"
   ]
  },
  {
   "cell_type": "markdown",
   "metadata": {},
   "source": [
    "### Quick look the posts dataframe"
   ]
  },
  {
   "cell_type": "code",
   "execution_count": 23,
   "metadata": {},
   "outputs": [
    {
     "data": {
      "text/html": [
       "<div>\n",
       "<style scoped>\n",
       "    .dataframe tbody tr th:only-of-type {\n",
       "        vertical-align: middle;\n",
       "    }\n",
       "\n",
       "    .dataframe tbody tr th {\n",
       "        vertical-align: top;\n",
       "    }\n",
       "\n",
       "    .dataframe thead th {\n",
       "        text-align: right;\n",
       "    }\n",
       "</style>\n",
       "<table border=\"1\" class=\"dataframe\">\n",
       "  <thead>\n",
       "    <tr style=\"text-align: right;\">\n",
       "      <th></th>\n",
       "      <th>Id</th>\n",
       "      <th>Reputation</th>\n",
       "      <th>CreationDate</th>\n",
       "      <th>LastAccessDate</th>\n",
       "      <th>Views</th>\n",
       "      <th>UpVotes</th>\n",
       "      <th>DownVotes</th>\n",
       "    </tr>\n",
       "  </thead>\n",
       "  <tbody>\n",
       "    <tr>\n",
       "      <th>0</th>\n",
       "      <td>-1</td>\n",
       "      <td>1</td>\n",
       "      <td>2012-12-04T20:12:06.337</td>\n",
       "      <td>2012-12-04T20:12:06.337</td>\n",
       "      <td>267</td>\n",
       "      <td>5442</td>\n",
       "      <td>6725</td>\n",
       "    </tr>\n",
       "    <tr>\n",
       "      <th>1</th>\n",
       "      <td>1</td>\n",
       "      <td>101</td>\n",
       "      <td>2012-12-04T20:30:56.370</td>\n",
       "      <td>2019-05-24T04:06:47.420</td>\n",
       "      <td>1327</td>\n",
       "      <td>0</td>\n",
       "      <td>0</td>\n",
       "    </tr>\n",
       "    <tr>\n",
       "      <th>2</th>\n",
       "      <td>2</td>\n",
       "      <td>100</td>\n",
       "      <td>2012-12-04T20:34:24.480</td>\n",
       "      <td>2023-06-15T19:38:56.333</td>\n",
       "      <td>24</td>\n",
       "      <td>4</td>\n",
       "      <td>2</td>\n",
       "    </tr>\n",
       "    <tr>\n",
       "      <th>3</th>\n",
       "      <td>3</td>\n",
       "      <td>101</td>\n",
       "      <td>2012-12-04T20:34:26.643</td>\n",
       "      <td>2020-10-28T20:23:12.490</td>\n",
       "      <td>17</td>\n",
       "      <td>5</td>\n",
       "      <td>0</td>\n",
       "    </tr>\n",
       "    <tr>\n",
       "      <th>4</th>\n",
       "      <td>4</td>\n",
       "      <td>1</td>\n",
       "      <td>2012-12-04T20:34:43.307</td>\n",
       "      <td>2012-12-31T18:49:18.910</td>\n",
       "      <td>12</td>\n",
       "      <td>0</td>\n",
       "      <td>0</td>\n",
       "    </tr>\n",
       "  </tbody>\n",
       "</table>\n",
       "</div>"
      ],
      "text/plain": [
       "   Id  Reputation             CreationDate           LastAccessDate  Views   \n",
       "0  -1           1  2012-12-04T20:12:06.337  2012-12-04T20:12:06.337    267  \\\n",
       "1   1         101  2012-12-04T20:30:56.370  2019-05-24T04:06:47.420   1327   \n",
       "2   2         100  2012-12-04T20:34:24.480  2023-06-15T19:38:56.333     24   \n",
       "3   3         101  2012-12-04T20:34:26.643  2020-10-28T20:23:12.490     17   \n",
       "4   4           1  2012-12-04T20:34:43.307  2012-12-31T18:49:18.910     12   \n",
       "\n",
       "   UpVotes  DownVotes  \n",
       "0     5442       6725  \n",
       "1        0          0  \n",
       "2        4          2  \n",
       "3        5          0  \n",
       "4        0          0  "
      ]
     },
     "execution_count": 23,
     "metadata": {},
     "output_type": "execute_result"
    }
   ],
   "source": [
    "df_users.head()"
   ]
  },
  {
   "cell_type": "markdown",
   "metadata": {},
   "source": [
    "### Typecasting"
   ]
  },
  {
   "cell_type": "code",
   "execution_count": 24,
   "metadata": {},
   "outputs": [],
   "source": [
    "# Convert 'CreationDate' and 'LastAccessDate' to datetime using the dataset format\n",
    "df_users['CreationDate'] = pd.to_datetime(df_users['CreationDate'], format='%Y-%m-%dT%H:%M:%S.%f')\n",
    "df_users['LastAccessDate'] = pd.to_datetime(df_users['LastAccessDate'], format='%Y-%m-%dT%H:%M:%S.%f')\n",
    "\n",
    "df_users = df_users.astype({\n",
    "    'Id': 'int32',\n",
    "    'Reputation': 'int32',\n",
    "    'CreationDate': 'datetime64[ns]',\n",
    "    #'DisplayName': 'string',\n",
    "    'LastAccessDate': 'datetime64[ns]',\n",
    "    #'WebsiteUrl': 'string',\n",
    "    #'Location': 'string',\n",
    "    #'AboutMe': 'string',\n",
    "    'Views': 'int32',\n",
    "    'UpVotes': 'int32',\n",
    "    'DownVotes': 'int32',\n",
    "    #'ProfileImageUrl': 'string',\n",
    "    #'AccountId': 'int32',\n",
    "})"
   ]
  },
  {
   "cell_type": "code",
   "execution_count": 25,
   "metadata": {},
   "outputs": [
    {
     "name": "stdout",
     "output_type": "stream",
     "text": [
      "<class 'pandas.core.frame.DataFrame'>\n",
      "RangeIndex: 38788 entries, 0 to 38787\n",
      "Data columns (total 7 columns):\n",
      " #   Column          Non-Null Count  Dtype         \n",
      "---  ------          --------------  -----         \n",
      " 0   Id              38788 non-null  int32         \n",
      " 1   Reputation      38788 non-null  int32         \n",
      " 2   CreationDate    38788 non-null  datetime64[ns]\n",
      " 3   LastAccessDate  38788 non-null  datetime64[ns]\n",
      " 4   Views           38788 non-null  int32         \n",
      " 5   UpVotes         38788 non-null  int32         \n",
      " 6   DownVotes       38788 non-null  int32         \n",
      "dtypes: datetime64[ns](2), int32(5)\n",
      "memory usage: 1.3 MB\n"
     ]
    }
   ],
   "source": [
    "df_users.info()\n"
   ]
  },
  {
   "cell_type": "markdown",
   "metadata": {},
   "source": [
    "### Save all DataFrames to pickles"
   ]
  },
  {
   "cell_type": "code",
   "execution_count": 26,
   "metadata": {},
   "outputs": [],
   "source": [
    "# comments is too big, therefore we split it in two just for now temporary solution as they say ;)\n",
    "import numpy as np\n",
    "\n",
    "df_comments_1, df_comments_2 = np.array_split(df_comments, 2)\n",
    "df_posts_1, df_posts_2, df_posts_3 = np.array_split(df_posts, 3)"
   ]
  },
  {
   "cell_type": "code",
   "execution_count": 27,
   "metadata": {},
   "outputs": [],
   "source": [
    "df_comments_1.to_pickle('comments1.pkl')\n",
    "df_comments_2.to_pickle('comments2.pkl')\n",
    "df_posts_1.to_pickle('posts1.pkl')\n",
    "df_posts_2.to_pickle('posts2.pkl')\n",
    "df_posts_3.to_pickle('posts3.pkl')\n",
    "\n",
    "df_posts_links.to_pickle('posts_links.pkl')\n",
    "df_tags.to_pickle('tags.pkl')\n",
    "df_users.to_pickle('users.pkl')"
   ]
  },
  {
   "cell_type": "markdown",
   "metadata": {},
   "source": [
    "### Assigning sentiment polarity scores\n"
   ]
  },
  {
   "cell_type": "code",
   "execution_count": null,
   "metadata": {},
   "outputs": [],
   "source": []
  },
  {
   "cell_type": "code",
   "execution_count": null,
   "metadata": {},
   "outputs": [],
   "source": []
  },
  {
   "cell_type": "markdown",
   "metadata": {},
   "source": [
    "### Dealing with the missing values"
   ]
  },
  {
   "cell_type": "markdown",
   "metadata": {},
   "source": [
    "**`df_comments`**"
   ]
  },
  {
   "cell_type": "code",
   "execution_count": null,
   "metadata": {},
   "outputs": [],
   "source": [
    "# Drop all rows from "
   ]
  },
  {
   "cell_type": "markdown",
   "metadata": {},
   "source": [
    "**`df_posts`**"
   ]
  },
  {
   "cell_type": "code",
   "execution_count": null,
   "metadata": {},
   "outputs": [],
   "source": []
  },
  {
   "cell_type": "code",
   "execution_count": null,
   "metadata": {},
   "outputs": [],
   "source": []
  },
  {
   "cell_type": "markdown",
   "metadata": {},
   "source": [
    "## Aggregate Post and Comment Counts per User:"
   ]
  },
  {
   "cell_type": "code",
   "execution_count": 184,
   "metadata": {},
   "outputs": [],
   "source": [
    "# Remove rows where\n",
    "# UserId = -1 \n",
    "# OwnerUserId = -1\n",
    "\n",
    "df_comments = df_comments[df_comments['UserId'] != -1]\n",
    "df_posts = df_posts[df_posts['OwnerUserId'] != -1]"
   ]
  },
  {
   "cell_type": "code",
   "execution_count": 169,
   "metadata": {},
   "outputs": [],
   "source": [
    "# Count the number of posts per user\n",
    "user_posts_count = df_posts.groupby('OwnerUserId').size().reset_index(name='PostCount')\n",
    "\n",
    "# Count the number of comments per user\n",
    "user_comments_count = df_comments.groupby('UserId').size().reset_index(name='CommentCount')"
   ]
  },
  {
   "cell_type": "code",
   "execution_count": 179,
   "metadata": {},
   "outputs": [
    {
     "data": {
      "text/html": [
       "<div>\n",
       "<style scoped>\n",
       "    .dataframe tbody tr th:only-of-type {\n",
       "        vertical-align: middle;\n",
       "    }\n",
       "\n",
       "    .dataframe tbody tr th {\n",
       "        vertical-align: top;\n",
       "    }\n",
       "\n",
       "    .dataframe thead th {\n",
       "        text-align: right;\n",
       "    }\n",
       "</style>\n",
       "<table border=\"1\" class=\"dataframe\">\n",
       "  <thead>\n",
       "    <tr style=\"text-align: right;\">\n",
       "      <th></th>\n",
       "      <th>OwnerUserId</th>\n",
       "      <th>PostCount</th>\n",
       "    </tr>\n",
       "  </thead>\n",
       "  <tbody>\n",
       "    <tr>\n",
       "      <th>0</th>\n",
       "      <td>5</td>\n",
       "      <td>3</td>\n",
       "    </tr>\n",
       "    <tr>\n",
       "      <th>1</th>\n",
       "      <td>8</td>\n",
       "      <td>13</td>\n",
       "    </tr>\n",
       "    <tr>\n",
       "      <th>2</th>\n",
       "      <td>18</td>\n",
       "      <td>36</td>\n",
       "    </tr>\n",
       "    <tr>\n",
       "      <th>3</th>\n",
       "      <td>20</td>\n",
       "      <td>5</td>\n",
       "    </tr>\n",
       "    <tr>\n",
       "      <th>4</th>\n",
       "      <td>21</td>\n",
       "      <td>9</td>\n",
       "    </tr>\n",
       "    <tr>\n",
       "      <th>...</th>\n",
       "      <td>...</td>\n",
       "      <td>...</td>\n",
       "    </tr>\n",
       "    <tr>\n",
       "      <th>7450</th>\n",
       "      <td>47168</td>\n",
       "      <td>1</td>\n",
       "    </tr>\n",
       "    <tr>\n",
       "      <th>7451</th>\n",
       "      <td>47176</td>\n",
       "      <td>1</td>\n",
       "    </tr>\n",
       "    <tr>\n",
       "      <th>7452</th>\n",
       "      <td>47180</td>\n",
       "      <td>1</td>\n",
       "    </tr>\n",
       "    <tr>\n",
       "      <th>7453</th>\n",
       "      <td>47211</td>\n",
       "      <td>1</td>\n",
       "    </tr>\n",
       "    <tr>\n",
       "      <th>7454</th>\n",
       "      <td>47213</td>\n",
       "      <td>1</td>\n",
       "    </tr>\n",
       "  </tbody>\n",
       "</table>\n",
       "<p>7455 rows × 2 columns</p>\n",
       "</div>"
      ],
      "text/plain": [
       "      OwnerUserId  PostCount\n",
       "0               5          3\n",
       "1               8         13\n",
       "2              18         36\n",
       "3              20          5\n",
       "4              21          9\n",
       "...           ...        ...\n",
       "7450        47168          1\n",
       "7451        47176          1\n",
       "7452        47180          1\n",
       "7453        47211          1\n",
       "7454        47213          1\n",
       "\n",
       "[7455 rows x 2 columns]"
      ]
     },
     "execution_count": 179,
     "metadata": {},
     "output_type": "execute_result"
    }
   ],
   "source": [
    "user_posts_count"
   ]
  },
  {
   "cell_type": "code",
   "execution_count": 185,
   "metadata": {},
   "outputs": [
    {
     "data": {
      "text/html": [
       "<div>\n",
       "<style scoped>\n",
       "    .dataframe tbody tr th:only-of-type {\n",
       "        vertical-align: middle;\n",
       "    }\n",
       "\n",
       "    .dataframe tbody tr th {\n",
       "        vertical-align: top;\n",
       "    }\n",
       "\n",
       "    .dataframe thead th {\n",
       "        text-align: right;\n",
       "    }\n",
       "</style>\n",
       "<table border=\"1\" class=\"dataframe\">\n",
       "  <thead>\n",
       "    <tr style=\"text-align: right;\">\n",
       "      <th></th>\n",
       "      <th>UserId</th>\n",
       "      <th>CommentCount</th>\n",
       "    </tr>\n",
       "  </thead>\n",
       "  <tbody>\n",
       "    <tr>\n",
       "      <th>0</th>\n",
       "      <td>3</td>\n",
       "      <td>1</td>\n",
       "    </tr>\n",
       "    <tr>\n",
       "      <th>1</th>\n",
       "      <td>5</td>\n",
       "      <td>31</td>\n",
       "    </tr>\n",
       "    <tr>\n",
       "      <th>2</th>\n",
       "      <td>7</td>\n",
       "      <td>3</td>\n",
       "    </tr>\n",
       "    <tr>\n",
       "      <th>3</th>\n",
       "      <td>8</td>\n",
       "      <td>10</td>\n",
       "    </tr>\n",
       "    <tr>\n",
       "      <th>4</th>\n",
       "      <td>14</td>\n",
       "      <td>11</td>\n",
       "    </tr>\n",
       "    <tr>\n",
       "      <th>...</th>\n",
       "      <td>...</td>\n",
       "      <td>...</td>\n",
       "    </tr>\n",
       "    <tr>\n",
       "      <th>7459</th>\n",
       "      <td>47066</td>\n",
       "      <td>1</td>\n",
       "    </tr>\n",
       "    <tr>\n",
       "      <th>7460</th>\n",
       "      <td>47144</td>\n",
       "      <td>1</td>\n",
       "    </tr>\n",
       "    <tr>\n",
       "      <th>7461</th>\n",
       "      <td>47180</td>\n",
       "      <td>2</td>\n",
       "    </tr>\n",
       "    <tr>\n",
       "      <th>7462</th>\n",
       "      <td>47197</td>\n",
       "      <td>1</td>\n",
       "    </tr>\n",
       "    <tr>\n",
       "      <th>7463</th>\n",
       "      <td>47211</td>\n",
       "      <td>2</td>\n",
       "    </tr>\n",
       "  </tbody>\n",
       "</table>\n",
       "<p>7464 rows × 2 columns</p>\n",
       "</div>"
      ],
      "text/plain": [
       "      UserId  CommentCount\n",
       "0          3             1\n",
       "1          5            31\n",
       "2          7             3\n",
       "3          8            10\n",
       "4         14            11\n",
       "...      ...           ...\n",
       "7459   47066             1\n",
       "7460   47144             1\n",
       "7461   47180             2\n",
       "7462   47197             1\n",
       "7463   47211             2\n",
       "\n",
       "[7464 rows x 2 columns]"
      ]
     },
     "execution_count": 185,
     "metadata": {},
     "output_type": "execute_result"
    }
   ],
   "source": [
    "user_comments_count"
   ]
  },
  {
   "cell_type": "code",
   "execution_count": null,
   "metadata": {},
   "outputs": [],
   "source": []
  },
  {
   "cell_type": "code",
   "execution_count": 170,
   "metadata": {},
   "outputs": [],
   "source": [
    "# Merge post counts with user data\n",
    "user_data = pd.merge(df_users, user_posts_count, left_on='Id', right_on='OwnerUserId', how='left')\n",
    "\n",
    "# Merge comment counts with user data\n",
    "user_data = pd.merge(user_data, user_comments_count, left_on='Id', right_on='UserId', how='left')\n",
    "\n",
    "# Fill NaN values with 0 (for users with no posts/comments)\n",
    "user_data.fillna({'PostCount': 0, 'CommentCount': 0}, inplace=True)"
   ]
  },
  {
   "cell_type": "code",
   "execution_count": 171,
   "metadata": {},
   "outputs": [],
   "source": [
    "# Calculate total activity (posts + comments)\n",
    "user_data['TotalActivity'] = user_data['PostCount'] + user_data['CommentCount']\n",
    "\n",
    "# Filter to find active users\n",
    "active_users = user_data[user_data['TotalActivity'] > 20]"
   ]
  },
  {
   "cell_type": "code",
   "execution_count": null,
   "metadata": {},
   "outputs": [],
   "source": []
  }
 ],
 "metadata": {
  "kernelspec": {
   "display_name": "Python 3",
   "language": "python",
   "name": "python3"
  },
  "language_info": {
   "codemirror_mode": {
    "name": "ipython",
    "version": 3
   },
   "file_extension": ".py",
   "mimetype": "text/x-python",
   "name": "python",
   "nbconvert_exporter": "python",
   "pygments_lexer": "ipython3",
   "version": "3.10.4"
  }
 },
 "nbformat": 4,
 "nbformat_minor": 2
}
