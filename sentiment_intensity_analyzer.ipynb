{
 "cells": [
  {
   "cell_type": "code",
   "execution_count": null,
   "metadata": {},
   "outputs": [],
   "source": [
    "from dask.distributed import Client\n",
    "from nltk.sentiment import SentimentIntensityAnalyzer\n",
    "\n",
    "import dask.dataframe as dd\n",
    "import psutil  # For memory monitoring\n",
    "import pandas as pd\n",
    "import pickle as pkl\n",
    "import time"
   ]
  },
  {
   "cell_type": "code",
   "execution_count": null,
   "metadata": {},
   "outputs": [],
   "source": [
    "df_posts1 = pd.read_pickle('./pickle_dataframes/posts1.pkl')\n",
    "df_posts2 = pd.read_pickle('./pickle_dataframes/posts2.pkl')\n",
    "df_posts3 = pd.read_pickle('./pickle_dataframes/posts3.pkl')\n",
    "df_posts = pd.concat([df_posts1, df_posts2, df_posts3])\n",
    "df_posts.reset_index(drop=True, inplace=True)\n",
    "\n",
    "df_posts = df_posts[df_posts['PostTypeId'] == 1]\n",
    "#df_posts = df_posts.sample(frac=0.25)"
   ]
  },
  {
   "cell_type": "markdown",
   "metadata": {},
   "source": [
    "### Estimate memory usage"
   ]
  },
  {
   "cell_type": "code",
   "execution_count": null,
   "metadata": {},
   "outputs": [],
   "source": [
    "# Initialize SentimentIntensityAnalyzer once\n",
    "sia = SentimentIntensityAnalyzer()\n",
    "\n",
    "# Function to apply sentiment analysis\n",
    "def analyze_sentiment(text):\n",
    "    return sia.polarity_scores(text)['compound']\n",
    "\n",
    "def process_data(df, npartitions=None):\n",
    "    start_time = time.time()\n",
    "    \n",
    "    # If npartitions is not specified, default to 1 (suitable for sequential processing)\n",
    "    if npartitions is None:\n",
    "        npartitions = 1\n",
    "\n",
    "    # Convert DataFrame to Dask DataFrame\n",
    "    ddf = dd.from_pandas(df, npartitions=npartitions)\n",
    "    # Apply sentiment analysis\n",
    "    ddf['sentiment'] = ddf['Body'].map(analyze_sentiment, meta=('Body', 'float64'))\n",
    "\n",
    "    # Compute result and monitor memory usage\n",
    "    result = ddf.compute()\n",
    "    memory_usage = psutil.virtual_memory()\n",
    "    \n",
    "    end_time = time.time()\n",
    "    return result, end_time - start_time, memory_usage.used"
   ]
  },
  {
   "cell_type": "code",
   "execution_count": null,
   "metadata": {},
   "outputs": [],
   "source": [
    "# Sequential processing (no parallelism)\n",
    "print(\"Running sequentially...\")\n",
    "seq_result, seq_time, _ = process_data(df_posts)\n",
    "print(f\"Sequential processing time: {seq_time} seconds\")\n",
    "\n",
    "# Parallel processing with multiple cores\n",
    "core_counts = [2, 4, 6, 8, 10]\n",
    "for cores in core_counts:\n",
    "    print(f\"Running with {cores} cores...\")\n",
    "    with Client(n_workers=cores, threads_per_worker=2) as client:  # Adjust threads_per_worker as needed\n",
    "        _, parallel_time, mem_usage = process_data(df_posts, npartitions=cores)\n",
    "        efficiency = seq_time / (cores * parallel_time)\n",
    "        print(f\"Time with {cores} cores: {parallel_time} seconds, Efficiency: {efficiency}, Memory used: {mem_usage} bytes\")"
   ]
  },
  {
   "cell_type": "markdown",
   "metadata": {},
   "source": []
  },
  {
   "cell_type": "code",
   "execution_count": null,
   "metadata": {},
   "outputs": [],
   "source": []
  },
  {
   "cell_type": "code",
   "execution_count": null,
   "metadata": {},
   "outputs": [],
   "source": []
  },
  {
   "cell_type": "code",
   "execution_count": null,
   "metadata": {},
   "outputs": [],
   "source": []
  },
  {
   "cell_type": "code",
   "execution_count": null,
   "metadata": {},
   "outputs": [],
   "source": []
  }
 ],
 "metadata": {
  "kernelspec": {
   "display_name": "Python 3",
   "language": "python",
   "name": "python3"
  },
  "language_info": {
   "codemirror_mode": {
    "name": "ipython",
    "version": 3
   },
   "file_extension": ".py",
   "mimetype": "text/x-python",
   "name": "python",
   "nbconvert_exporter": "python",
   "pygments_lexer": "ipython3",
   "version": "3.10.4"
  }
 },
 "nbformat": 4,
 "nbformat_minor": 2
}
