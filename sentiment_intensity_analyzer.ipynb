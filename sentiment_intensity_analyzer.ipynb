{
 "cells": [
  {
   "cell_type": "code",
   "execution_count": 4,
   "metadata": {},
   "outputs": [],
   "source": [
    "import dask\n",
    "import numpy as np\n",
    "import pandas as pd"
   ]
  },
  {
   "cell_type": "code",
   "execution_count": null,
   "metadata": {},
   "outputs": [],
   "source": [
    "import time\n",
    "import dask.dataframe as dd\n",
    "from nltk.sentiment import SentimentIntensityAnalyzer\n",
    "from dask.distributed import Client, progress\n",
    "from dask.diagnostics import ProgressBar, ResourceProfiler, Profiler, CacheProfiler\n",
    "\n",
    "# Initialize SentimentIntensityAnalyzer\n",
    "sia = SentimentIntensityAnalyzer()\n",
    "\n",
    "# Function to apply sentiment analysis\n",
    "def analyze_sentiment(text):\n",
    "    return sia.polarity_scores(text)['compound']\n",
    "\n",
    "# Function to process the DataFrame\n",
    "def process_data(df, npartitions=None):\n",
    "    start_time = time.time()\n",
    "    \n",
    "    # Convert DataFrame to Dask DataFrame\n",
    "    ddf = dd.from_pandas(df, npartitions=npartitions)\n",
    "    \n",
    "    # Apply sentiment analysis\n",
    "    ddf['sentiment'] = ddf['Body'].map(analyze_sentiment, meta=('Body', 'float64'))\n",
    "\n",
    "    # Use Dask diagnostics for monitoring\n",
    "    with ProgressBar(), ResourceProfiler() as rprof, Profiler() as prof, CacheProfiler() as cprof:\n",
    "        # Compute result and persist in memory for large datasets\n",
    "        result = ddf.persist()\n",
    "        progress(result)  # Optional: to monitor progress\n",
    "\n",
    "    end_time = time.time()\n",
    "    total_time = end_time - start_time\n",
    "\n",
    "    # Print performance metrics\n",
    "    print(f\"Total processing time: {total_time} seconds\")\n",
    "    rprof.visualize()  # Visualize resource usage\n",
    "    prof.visualize()   # Visualize the profiling of task execution\n",
    "    cprof.visualize()  # Visualize cache profiling\n",
    "\n",
    "    return result.compute(), total_time\n",
    "\n",
    "# Example usage of the script\n",
    "if __name__ == \"__main__\":\n",
    "    # Your DataFrame (assuming it's already loaded)\n",
    "    # df_posts = ...\n",
    "\n",
    "    # Configure Dask client\n",
    "    client = Client(n_workers=4, threads_per_worker=1, memory_limit='2GB')\n",
    "\n",
    "    print(\"Running with Dask parallel processing...\")\n",
    "    parallel_result, parallel_time = process_data(df_posts)\n",
    "    print(f\"Dask parallel processing time: {parallel_time} seconds\")\n",
    "\n",
    "    # Clean up Dask client\n",
    "    client.close()"
   ]
  }
 ],
 "metadata": {
  "kernelspec": {
   "display_name": "Python 3",
   "language": "python",
   "name": "python3"
  },
  "language_info": {
   "codemirror_mode": {
    "name": "ipython",
    "version": 3
   },
   "file_extension": ".py",
   "mimetype": "text/x-python",
   "name": "python",
   "nbconvert_exporter": "python",
   "pygments_lexer": "ipython3",
   "version": "3.10.4"
  }
 },
 "nbformat": 4,
 "nbformat_minor": 2
}
