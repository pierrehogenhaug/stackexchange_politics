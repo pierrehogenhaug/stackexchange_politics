{
 "cells": [
  {
   "cell_type": "code",
   "execution_count": 4,
   "metadata": {},
   "outputs": [],
   "source": [
    "import dask\n",
    "import numpy as np\n",
    "import pandas as pd"
   ]
  },
  {
   "cell_type": "code",
   "execution_count": null,
   "metadata": {},
   "outputs": [],
   "source": [
    "import time\n",
    "import dask.dataframe as dd\n",
    "from nltk.sentiment import SentimentIntensityAnalyzer\n",
    "from dask.distributed import Client\n",
    "\n",
    "# Function to apply sentiment analysis\n",
    "def analyze_sentiment(text):\n",
    "    sia = SentimentIntensityAnalyzer()\n",
    "    return sia.polarity_scores(text)['compound']\n",
    "\n",
    "# Function to process the DataFrame\n",
    "def process_data(df, npartitions=None):\n",
    "    start_time = time.time()\n",
    "    \n",
    "    # Convert DataFrame to Dask DataFrame\n",
    "    ddf = dd.from_pandas(df, npartitions=npartitions)\n",
    "    # Apply sentiment analysis\n",
    "    ddf['sentiment'] = ddf['Body'].map(analyze_sentiment, meta=('Body', 'float64'))\n",
    "\n",
    "    # Compute result\n",
    "    result = ddf.compute()\n",
    "    \n",
    "    end_time = time.time()\n",
    "    return result, end_time - start_time\n",
    "\n",
    "# Your DataFrame (assuming it's already loaded)\n",
    "# df_posts = ...\n",
    "\n",
    "# Sequential processing (no parallelism)\n",
    "print(\"Running sequentially...\")\n",
    "seq_result, seq_time = process_data(df_posts)\n",
    "print(f\"Sequential processing time: {seq_time} seconds\")\n",
    "\n",
    "# Parallel processing with multiple cores\n",
    "core_counts = [2, 4, 6, 8, 10]\n",
    "for cores in core_counts:\n",
    "    print(f\"Running with {cores} cores...\")\n",
    "    with Client(n_workers=cores, threads_per_worker=1) as client:\n",
    "        _, parallel_time = process_data(df_posts, npartitions=cores)\n",
    "        efficiency = seq_time / (cores * parallel_time)\n",
    "        print(f\"Time with {cores} cores: {parallel_time} seconds, Efficiency: {efficiency}\")"
   ]
  }
 ],
 "metadata": {
  "kernelspec": {
   "display_name": "Python 3",
   "language": "python",
   "name": "python3"
  },
  "language_info": {
   "codemirror_mode": {
    "name": "ipython",
    "version": 3
   },
   "file_extension": ".py",
   "mimetype": "text/x-python",
   "name": "python",
   "nbconvert_exporter": "python",
   "pygments_lexer": "ipython3",
   "version": "3.10.4"
  }
 },
 "nbformat": 4,
 "nbformat_minor": 2
}
